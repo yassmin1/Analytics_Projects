{
  "nbformat": 4,
  "nbformat_minor": 0,
  "metadata": {
    "colab": {
      "private_outputs": true,
      "provenance": [],
      "toc_visible": true,
      "mount_file_id": "1KrkyYHOAMfjgAGVLDZ3IqcDyNa9PTxiL",
      "authorship_tag": "ABX9TyMcb+zInfrBoGT2rvzGe8Nx",
      "include_colab_link": true
    },
    "kernelspec": {
      "name": "python3",
      "display_name": "Python 3"
    },
    "language_info": {
      "name": "python"
    }
  },
  "cells": [
    {
      "cell_type": "markdown",
      "metadata": {
        "id": "view-in-github",
        "colab_type": "text"
      },
      "source": [
        "<a href=\"https://colab.research.google.com/github/yassmin1/Analytics_Projects/blob/main/Gun_Violence.ipynb\" target=\"_parent\"><img src=\"https://colab.research.google.com/assets/colab-badge.svg\" alt=\"Open In Colab\"/></a>"
      ]
    },
    {
      "cell_type": "markdown",
      "source": [
        "# **Gun Violence USA 2013-2022**\n",
        "\n",
        "\n",
        "## **Gun violence  and crime incidents**\n",
        "Gun violence  and crime incidents are collected/validated from 7,500 sources daily – Incident Reports and their source data are found at the gunviolencearchive.org website.\n",
        "\n",
        "1.   Number of source verified deaths and injuries\n",
        "2.   Number of INCIDENTS reported and verified\n",
        "3. Calculation based on CDC Suicide Data\n",
        "4. Actual total of all non-suicide deaths plus daily calculated suicide deaths   \n",
        "\n",
        "for more information visit the following website <https://www.gunviolencearchive.org/>"
      ],
      "metadata": {
        "id": "PQBHzzK1gmV_"
      }
    },
    {
      "cell_type": "markdown",
      "source": [
        "## **Data Exploratory Analysis**\n",
        "\n",
        "\n",
        "\n",
        "\n",
        "\n",
        "\n",
        "\n"
      ],
      "metadata": {
        "id": "SLENfYGD42ve"
      }
    },
    {
      "cell_type": "code",
      "execution_count": null,
      "metadata": {
        "id": "1qoUg4c1J9J8"
      },
      "outputs": [],
      "source": [
        "from google.colab import drive\n",
        "drive.mount('/content/drive')"
      ]
    },
    {
      "cell_type": "code",
      "source": [
        "import pandas as pd\n",
        "import numpy as np\n",
        "import matplotlib.pyplot as plt\n",
        "import seaborn as sns\n",
        "import calendar\n",
        "sns.set_style('white')\n",
        "sns.set_context('paper',font_scale=1.5)\n",
        "sns.set_palette('bright')\n",
        "plt.rcParams['figure.figsize'] = (12, 8)\n",
        "plt.rcParams['font.size'] = 20"
      ],
      "metadata": {
        "id": "0VksZnOGc_t7"
      },
      "execution_count": null,
      "outputs": []
    },
    {
      "cell_type": "code",
      "source": [
        "file1=r'/content/drive/MyDrive/Colab Notebooks/Py_PB_Project/archive_GunViolance/all_incidents.csv'\n",
        "file2=r'/content/drive/MyDrive/Colab Notebooks/Py_PB_Project/archive_GunViolance/mass_shootings.csv'\n"
      ],
      "metadata": {
        "id": "D1PcbjFAKSq_"
      },
      "execution_count": null,
      "outputs": []
    },
    {
      "cell_type": "code",
      "source": [
        "all_incidents=pd.read_csv(file1)"
      ],
      "metadata": {
        "id": "IQeIZPzdc97H"
      },
      "execution_count": null,
      "outputs": []
    },
    {
      "cell_type": "code",
      "source": [
        "all_incidents.shape"
      ],
      "metadata": {
        "id": "UKElrzLphcTa"
      },
      "execution_count": null,
      "outputs": []
    },
    {
      "cell_type": "code",
      "source": [
        "print(f\"date ranges between {all_incidents['date'].min()} and { all_incidents['date'].max()}\")\n"
      ],
      "metadata": {
        "id": "ksfAxwQthSqJ"
      },
      "execution_count": null,
      "outputs": []
    },
    {
      "cell_type": "code",
      "source": [
        "all_incidents.info()"
      ],
      "metadata": {
        "id": "qqbuyrrvhVZ2"
      },
      "execution_count": null,
      "outputs": []
    },
    {
      "cell_type": "markdown",
      "source": [
        "**OBS:** *Address feature has nan values however we can delete it.*"
      ],
      "metadata": {
        "id": "MBwNgdZLgUQo"
      }
    },
    {
      "cell_type": "code",
      "source": [
        "all_incidents.describe().T"
      ],
      "metadata": {
        "id": "C1AdjH4dhVhb"
      },
      "execution_count": null,
      "outputs": []
    },
    {
      "cell_type": "code",
      "source": [
        "all_incidents.isnull().sum()"
      ],
      "metadata": {
        "id": "BU_ktmZShVqK"
      },
      "execution_count": null,
      "outputs": []
    },
    {
      "cell_type": "code",
      "source": [
        "all_incidents.drop_duplicates(subset='incident_id',inplace=True)\n",
        "all_incidents.dropna(subset=['address'],inplace=True)"
      ],
      "metadata": {
        "id": "1wok-gzNkQWB"
      },
      "execution_count": null,
      "outputs": []
    },
    {
      "cell_type": "code",
      "source": [
        "all_incidents.shape"
      ],
      "metadata": {
        "id": "c2JSHUVAQ4sh"
      },
      "execution_count": null,
      "outputs": []
    },
    {
      "cell_type": "code",
      "source": [
        "all_incidents.info(memory_usage='deep')"
      ],
      "metadata": {
        "id": "95rLhU4sRyJT"
      },
      "execution_count": null,
      "outputs": []
    },
    {
      "cell_type": "code",
      "source": [
        "pers=100*all_incidents.groupby('state')['incident_id'].count()/all_incidents.groupby('state')['incident_id'].count().sum()#"
      ],
      "metadata": {
        "id": "nJyiAMoEtxbM"
      },
      "execution_count": null,
      "outputs": []
    },
    {
      "cell_type": "code",
      "source": [
        "pers.sort_values(ascending=False).nlargest(10)"
      ],
      "metadata": {
        "id": "10Drb4C6xE_7"
      },
      "execution_count": null,
      "outputs": []
    },
    {
      "cell_type": "code",
      "source": [
        "g=sns.countplot(data=all_incidents,x='state',order=all_incidents.groupby('state')['incident_id'].size().sort_values(ascending=False).nlargest(10).index)\n",
        "total = len(all_incidents)\n",
        "for p in g.patches:\n",
        "    percentage = '{:.1f}%'.format(100 * p.get_height() / total)\n",
        "    x = p.get_x() + p.get_width() / 2\n",
        "    y = p.get_height()\n",
        "    g.annotate(percentage, (x, y), ha='center', va='bottom')\n",
        "plt.xticks(rotation=20) ;"
      ],
      "metadata": {
        "id": "s0lZ-RiwI4xD"
      },
      "execution_count": null,
      "outputs": []
    },
    {
      "cell_type": "markdown",
      "source": [
        "**OBS:Illinois, california, and texas are the states having the higer percent of incident.**"
      ],
      "metadata": {
        "id": "A0wCmez7Q2PY"
      }
    },
    {
      "cell_type": "code",
      "source": [
        "g=sns.countplot(data=all_incidents,x='city',order=all_incidents.groupby('city')['incident_id'].size().sort_values(ascending=False).nlargest(10).index)\n",
        "total = len(all_incidents)\n",
        "for p in g.patches:\n",
        "    percentage = '{:.1f}%'.format(100 * p.get_height() / total)\n",
        "    x = p.get_x() + p.get_width() / 2\n",
        "    y = p.get_height()\n",
        "    g.annotate(percentage, (x, y), ha='center', va='bottom')\n",
        "plt.xticks(rotation=30);\n"
      ],
      "metadata": {
        "id": "qFak5osSNtMN"
      },
      "execution_count": null,
      "outputs": []
    },
    {
      "cell_type": "code",
      "source": [
        "# adding the number of the killed and inures\n",
        "all_incidents['killed+injures']=all_incidents['n_killed']+all_incidents['n_injured']"
      ],
      "metadata": {
        "id": "sLgEmCyrheXK"
      },
      "execution_count": null,
      "outputs": []
    },
    {
      "cell_type": "markdown",
      "source": [
        "**OBS:Chicago, philadephia, and Baltimore are the mostcities having the higer percent of incident**"
      ],
      "metadata": {
        "id": "9OElI5nwRZxp"
      }
    },
    {
      "cell_type": "code",
      "source": [
        "vec=all_incidents['killed+injures'].value_counts(normalize=True,bins=[-1,0,1,2,3,80]).mul(100).sort_index().head(5).plot.bar(xlabel='Victims',ylabel='Percentage',color='red')\n",
        "for p in vec.patches:\n",
        "    prec='{:0.1f}%'.format(p.get_height())\n",
        "    x=p.get_x()+p.get_width()/2\n",
        "    y=p.get_height()\n",
        "    vec.annotate(prec,(x,y),ha='center',va='bottom')\n",
        "plt.xticks([0, 1, 2, 3, 4], labels=[0, 1, 2, 3, '4<'],rotation=30)\n"
      ],
      "metadata": {
        "id": "khWtQ_paixkJ"
      },
      "execution_count": null,
      "outputs": []
    },
    {
      "cell_type": "markdown",
      "source": [
        "**31% are fireshots without victims, while 68 are fireshot with victims**"
      ],
      "metadata": {
        "id": "xkKlE6P0lhp7"
      }
    },
    {
      "cell_type": "markdown",
      "source": [
        "## **Calculate the killed ratio and injuries ratio in the context of incidents, such as accidents or disasters, can provide valuable insights into the severity and impact of these events**\n",
        "\n",
        "These ratios normalize the number of killed and injured individuals by the total count of killed and injured. Normalization is important when comparing incidents of different magnitudes. It allows you to assess the proportion of fatalities and injuries relative to the total affected population, providing a more standardized measure.\n",
        "\n",
        "The killed ratio and injuries ratio focus on the impact of incidents on human lives, making them important indicators for assessing the severity of events. This information is crucial for emergency response planning, risk assessment, and policy development."
      ],
      "metadata": {
        "id": "O-CQaiZX3yi3"
      }
    },
    {
      "cell_type": "code",
      "source": [
        "all_incidents['killed_ratio']=all_incidents['n_killed']/all_incidents['killed+injures']\n",
        "all_incidents['injures_ratio']=all_incidents['n_injured']/all_incidents['killed+injures']"
      ],
      "metadata": {
        "id": "XlDmLUXlwjcB"
      },
      "execution_count": null,
      "outputs": []
    },
    {
      "cell_type": "markdown",
      "source": [
        "**Not all the incident resulted in injuries or killed. so is_incident =0 means it's just fire shots, while 1 means there are inures and killed.**  "
      ],
      "metadata": {
        "id": "NanqLldlsT24"
      }
    },
    {
      "cell_type": "code",
      "source": [
        "all_incidents['is_incident']=np.where(all_incidents['killed+injures']== 0,0,1)\n",
        "all_incidents['is_incident'].value_counts(normalize=True)"
      ],
      "metadata": {
        "id": "L5Tza0CtjPvK"
      },
      "execution_count": null,
      "outputs": []
    },
    {
      "cell_type": "code",
      "source": [
        "gg=all_incidents['is_incident'].value_counts(normalize=True).mul(100).plot.bar(color=['red','blue'])\n",
        "\n",
        "for p in gg.patches:\n",
        "    prec='{:0.1f}%'.format(p.get_height())\n",
        "    x=p.get_x()+p.get_width()/2\n",
        "    y=p.get_height()\n",
        "    gg.annotate(prec,(x,y),ha='center',va='bottom')\n",
        "plt.xticks(ticks=[1,0],labels={'With victims','gunshot'},rotation=30)\n",
        "\n",
        "\n",
        "\n"
      ],
      "metadata": {
        "id": "lGhgoebBs4Tt"
      },
      "execution_count": null,
      "outputs": []
    },
    {
      "cell_type": "code",
      "source": [
        "# plot the type of incidents in each states.\n",
        "all_incidents.groupby('state')['is_incident'].value_counts(normalize=True).unstack().sort_values(by=1,ascending=False).plot.bar(stacked=False)"
      ],
      "metadata": {
        "id": "iSolo58ZktoM"
      },
      "execution_count": null,
      "outputs": []
    },
    {
      "cell_type": "markdown",
      "source": [
        "**Illinois has the highest incident number and the highest incident resutled in injures and killed. while New Hampshire shows highe number of gun fires but no fatelity or injures. For Texas 75% of the shooting resulted in fatelity of injures**"
      ],
      "metadata": {
        "id": "peFqu4nXx0gD"
      }
    },
    {
      "cell_type": "code",
      "source": [
        "all_incidents.groupby('city')['is_incident'].value_counts().unstack(fill_value=0).sort_values(by=1,ascending=False).head(20).plot.bar(stacked=True)\n",
        "plt.legend(loc='center left', bbox_to_anchor=(1.0, 0.5))"
      ],
      "metadata": {
        "id": "qQB103nIoFrv"
      },
      "execution_count": null,
      "outputs": []
    },
    {
      "cell_type": "code",
      "source": [
        "all_incidents.query('is_incident==1').groupby('state')['killed_ratio','injures_ratio'].agg('mean').sort_values(by='killed_ratio',ascending=False).plot.bar(stacked=True,color={'killed_ratio':'red','injures_ratio':'blue'})"
      ],
      "metadata": {
        "id": "p4ai0b8qrnn_"
      },
      "execution_count": null,
      "outputs": []
    },
    {
      "cell_type": "markdown",
      "source": [
        "**60% of wyoming shooting fatality incident were resulted in killed while 40% injures. Arizona, Montana, Hawaii, Idaho, and nevada show 50% killed.**"
      ],
      "metadata": {
        "id": "Iigz9CPO50ge"
      }
    },
    {
      "cell_type": "code",
      "source": [
        "import requests\n",
        "url = \"https://raw.githubusercontent.com/python-visualization/folium/master/examples/data\"\n",
        "states_geo = f\"{url}/us-states.json\"\n",
        "states_geo_json=requests.get(states_geo).json()"
      ],
      "metadata": {
        "id": "1CsBsC7Yx1E0"
      },
      "execution_count": null,
      "outputs": []
    },
    {
      "cell_type": "code",
      "source": [
        "import folium\n",
        "max_lat=55\n",
        "max_lon=-135\n",
        "min_lat=30\n",
        "min_lon=-70\n",
        "\n",
        "# Assuming your GeoJSON file uses \"id\" as the feature identifier\n",
        "key_on = 'feature.properties.name'\n",
        "\n",
        "fig=folium.Figure(width=1000, height=500)\n",
        "# Create a choropleth map\n",
        "m = folium.Map([43, -100], zoom_start=4,  tiles=\"cartodb positron\",\n",
        "               attr=\"My Attribution\",max_lat=max_lat,max_lon=max_lon,min_lat=min_lat,min_lon=min_lon\n",
        "               , control_scale=True,).add_to(fig)\n",
        "\n",
        "# Add the choropleth layer\n",
        "folium.Choropleth(\n",
        "    geo_data=states_geo_json,\n",
        "    data=all_incidents,\n",
        "    title=\"Ratio of killed people\" ,\n",
        "    columns=['state','killed_ratio'],\n",
        "    key_on=key_on,\n",
        "    fill_opacity=0.9,\n",
        "    line_weight=2,\n",
        "    fill_color=\"YlGn\",\n",
        "    nan_fill_color=\"purple\",\n",
        "\n",
        ").geojson.add_child(folium.GeoJsonTooltip(['name'], labels=True)).add_to(m)\n",
        "folium.LayerControl().add_to(m)\n",
        "\n",
        "\n",
        "m\n",
        "# Display the map\n",
        "#m.save('map.html')\n",
        "#from IPython.display import IFrame\n",
        "#IFrame(\"map.html\",width=\"400\", height=\"300\")\n",
        "\n"
      ],
      "metadata": {
        "id": "MQYRB4_JmVaM"
      },
      "execution_count": null,
      "outputs": []
    },
    {
      "cell_type": "code",
      "source": [
        "from folium.plugins import MiniMap\n",
        "# Assuming your GeoJSON file uses \"id\" as the feature identifier\n",
        "key_on1 = 'properties.name'\n",
        "min_zoom_defined=2\n",
        "zoom_start_defined=4\n",
        "\n",
        "# Create a choropleth map\n",
        "fig2=folium.Figure(width=1000, height=500)\n",
        "mm = folium.Map([43, -100],   tiles=\"cartodb positron\",\n",
        "                attr=\"My Attribution\",\n",
        "            zoom_start=zoom_start_defined,\n",
        "           min_zoom = min_zoom_defined,\n",
        "           max_bounds = True  ).add_to(fig2)\n",
        "# Add the choropleth layer\n",
        "choropleth =folium.Choropleth(\n",
        "    geo_data=states_geo_json,\n",
        "    data=all_incidents,\n",
        "    columns=['state','injures_ratio'],\n",
        "    key_on=key_on1,\n",
        "    fill_opacity=0.9,\n",
        "    line_weight=2,\n",
        "    fill_color=\"YlGn\",\n",
        "    nan_fill_color=\"purple\",\n",
        "    highlight=True,\n",
        "    title=\" Injures Ratio\"\n",
        "\n",
        ").add_to(mm)\n",
        "folium.LayerControl().add_to(mm)\n",
        "# Display Region Label\n",
        "choropleth.geojson.add_child(\n",
        "    folium.features.GeoJsonTooltip(['name'], labels=False)\n",
        ")\n",
        "mm"
      ],
      "metadata": {
        "id": "EXWfYRe-nFMS"
      },
      "execution_count": null,
      "outputs": []
    },
    {
      "cell_type": "code",
      "source": [
        "#!pip install geojson\n",
        "import geojson\n",
        "with open('USA_Major_Cities.geojson') as f:\n",
        "    cities = geojson.load(f)\n",
        "cities['features'][1]['properties']['NAME']\n"
      ],
      "metadata": {
        "id": "cEzgmFHuX5qG"
      },
      "execution_count": null,
      "outputs": []
    },
    {
      "cell_type": "code",
      "source": [
        "states_geo_json['features'][0]['properties']['name']"
      ],
      "metadata": {
        "id": "CS9IVByyhOn-"
      },
      "execution_count": null,
      "outputs": []
    },
    {
      "cell_type": "code",
      "source": [
        "# Assuming your GeoJSON file uses \"id\" as the feature identifier\n",
        "key_on = 'properties.NAME'\n",
        "min_zoom_defined=2\n",
        "zoom_start_defined=4\n",
        "\n",
        "# Create a choropleth map\n",
        "fig2=folium.Figure(width=1000, height=500)\n",
        "mm = folium.Map([43, -100],   tiles=\"cartodb positron\",\n",
        "                attr=\"My Attribution\",\n",
        "            zoom_start=zoom_start_defined,\n",
        "           min_zoom = min_zoom_defined,\n",
        "           max_bounds = True  ).add_to(fig2)\n",
        "# Add the choropleth layer\n",
        "choropleth =folium.GeoJson(\n",
        "    cities,\n",
        "    name=\"Ciries and Death\",\n",
        "    zoom_on_click=True,\n",
        "    marker=folium.Marker(icon=folium.Icon(icon='star')),\n",
        "    tooltip=folium.GeoJsonTooltip(fields=[\"NAME\"]),\n",
        "    popup=folium.GeoJsonPopup(fields=[\"NAME\"]),\n",
        "    select\n",
        "\n",
        ").add_to(mm)\n",
        "folium.LayerControl().add_to(mm)\n",
        "mm"
      ],
      "metadata": {
        "id": "BT_zHZWs3vXZ"
      },
      "execution_count": null,
      "outputs": []
    },
    {
      "cell_type": "code",
      "source": [
        "all_incidents.query('n_killed >=10')"
      ],
      "metadata": {
        "id": "z9fE7d6XDbp5"
      },
      "execution_count": null,
      "outputs": []
    },
    {
      "cell_type": "code",
      "source": [
        "all_incidents['date']=pd.to_datetime(all_incidents['date'])\n",
        "all_incidents['year']=all_incidents['date'].dt.year\n",
        "all_incidents['month']=all_incidents['date'].dt.month\n",
        "all_incidents['day']=all_incidents['date'].dt.dayofweek\n"
      ],
      "metadata": {
        "id": "a5wF3A-M2-6P"
      },
      "execution_count": null,
      "outputs": []
    },
    {
      "cell_type": "code",
      "source": [
        "all_incidents.to_csv(\"all_incidents_clean.csv\",index=False)"
      ],
      "metadata": {
        "id": "FNFO9JLykCXn"
      },
      "execution_count": null,
      "outputs": []
    },
    {
      "cell_type": "code",
      "source": [
        "state_list=all_incidents.query('is_incident==1').groupby('state')['killed+injures'].agg('sum').sort_values(ascending=False).head(10).index.tolist()\n",
        "#state_list\n",
        "sns.pointplot(data=all_incidents.query('is_incident==1 and state in @state_list'),x='year',y='killed+injures',estimator='sum',hue='state',hue_order=state_list)"
      ],
      "metadata": {
        "id": "nYnpNxUa4WjU"
      },
      "execution_count": null,
      "outputs": []
    },
    {
      "cell_type": "markdown",
      "source": [
        "- In Illinoies, 2016 and 2020 have the highe number of victims.\n",
        "- All the states shows increase in victim number over time except for florida.\n",
        "- Texas,penn, NewYour show high inceasing rate in victimes number than other states.\n",
        "\n"
      ],
      "metadata": {
        "id": "6o-rExtR6dWs"
      }
    },
    {
      "cell_type": "code",
      "source": [
        "state_list=all_incidents.query('is_incident==1').groupby('state')['killed+injures'].agg('sum').sort_values(ascending=False).head(10).index.tolist()\n",
        "#state_list\n",
        "po=sns.pointplot(data=all_incidents.query('is_incident==1 and state in @state_list'),\n",
        "              x='month',y='killed+injures',estimator='sum',hue='state',hue_order=state_list\n",
        "              )\n",
        "po.set_xticklabels(['January','February','March','April','May','June','July','August','September','October','November','December'],rotation=40)\n"
      ],
      "metadata": {
        "id": "4nQeCYHQ_8f6"
      },
      "execution_count": null,
      "outputs": []
    },
    {
      "cell_type": "markdown",
      "source": [
        "- cold states such as New york,Ohaio and Illinoies highest victim number mostly around summer (July).\n",
        "- while warm states have such as folorida and texas have the highest number in spring around May.\n",
        "- mild states such as Cliforina and North carolina shows consistant number around the year.\n",
        "- January has high nuber in most of this states specifically for texas and florrida.\n"
      ],
      "metadata": {
        "id": "cX8lSN71_U1A"
      }
    },
    {
      "cell_type": "code",
      "source": [
        "day_month = all_incidents.groupby(by= ['day','month']).sum()['killed+injures'].unstack()\n",
        "pl=sns.heatmap(data=day_month,cmap = 'icefire',square=True,cbar_kws={\"shrink\": .7})\n",
        "pl.set_xticklabels(['January','February','March','April','May','June','July','August','September','October','November','December'],rotation=20);\n",
        "pl.set_yticklabels(['Monday', 'Tuesday', 'Wednesday', 'Thursday', 'Friday', 'Saturday', 'Sunday'],rotation=20);"
      ],
      "metadata": {
        "id": "5HkhzKIhBY3i"
      },
      "execution_count": null,
      "outputs": []
    },
    {
      "cell_type": "markdown",
      "source": [
        "**In all states, the most busy days with incidents are the weekends mostly in the summer between May and August.**"
      ],
      "metadata": {
        "id": "W6vxlRubxhDH"
      }
    },
    {
      "cell_type": "markdown",
      "source": [
        "weekend"
      ],
      "metadata": {
        "id": "X1X8JciRgERs"
      }
    },
    {
      "cell_type": "code",
      "source": [
        "day_month = all_incidents.query(\"state=='Texas'\").groupby(by= ['day','month']).sum()['killed+injures'].unstack()\n",
        "tx=sns.heatmap(data=day_month,cmap = 'icefire',square=False)\n",
        "tx.set_xticklabels(['January','February','March','April','May','June','July','August','September','October','November','December'],rotation=20);\n",
        "tx.set_yticklabels(['Monday', 'Tuesday', 'Wednesday', 'Thursday', 'Friday', 'Saturday', 'Sunday'],rotation=20);"
      ],
      "metadata": {
        "id": "GTUbHRkyS7kS"
      },
      "execution_count": null,
      "outputs": []
    },
    {
      "cell_type": "markdown",
      "source": [
        "**In Texas, the high incident accuring on weekends but all over the months. the hightset on january , May, and November.**"
      ],
      "metadata": {
        "id": "Fh1bpfoQx6ag"
      }
    },
    {
      "cell_type": "code",
      "source": [
        "from matplotlib.colors import LogNorm, Normalize\n",
        "from matplotlib.ticker import MaxNLocator\n",
        "day_month = all_incidents.query(\"city=='San Antonio'\").groupby(by= ['day','month']).sum()['killed+injures'].unstack()\n",
        "sa=sns.heatmap(data=day_month,cmap = 'icefire',square=True,annot=True,cbar_kws={\"shrink\": .7})\n",
        "sa.set_xticklabels(['January','February','March','April','May','June','July','August','September','October','November','December'],rotation=20);\n",
        "sa.set_yticklabels(['Monday', 'Tuesday', 'Wednesday', 'Thursday', 'Friday', 'Saturday', 'Sunday'],rotation=20);"
      ],
      "metadata": {
        "id": "7m73YBOdV00g"
      },
      "execution_count": null,
      "outputs": []
    },
    {
      "cell_type": "markdown",
      "source": [
        "- on contrary to the Texas, there is no clear pattern for San anotnio. in addition to the weekend there are incident and victims all over the weekdays.   "
      ],
      "metadata": {
        "id": "0NRLpT8ACrNM"
      }
    },
    {
      "cell_type": "code",
      "source": [],
      "metadata": {
        "id": "YoYllbTECpbD"
      },
      "execution_count": null,
      "outputs": []
    },
    {
      "cell_type": "markdown",
      "source": [
        "### Check if the holidays has affected the gun fire incidents"
      ],
      "metadata": {
        "id": "FGW2DSMBbcJJ"
      }
    },
    {
      "cell_type": "code",
      "source": [
        "from pandas.tseries.holiday import USFederalHolidayCalendar,Holiday,AbstractHolidayCalendar\n",
        "from pandas.tseries.holiday import sunday_to_monday,Easter,Day,Holiday,FR\n",
        "from pandas.tseries.offsets import CustomBusinessDay\n",
        "cal = USFederalHolidayCalendar()    # US calendar\n",
        "hol1 = cal.holidays(start=all_incidents.date.min(), end=all_incidents.date.max(),return_name=True)\n",
        "\n"
      ],
      "metadata": {
        "id": "Uro-zl_Cbjbf"
      },
      "execution_count": null,
      "outputs": []
    },
    {
      "cell_type": "code",
      "source": [
        "class MoreCalendar(USFederalHolidayCalendar):\n",
        "   rules = [\n",
        "     Holiday('Day of Dead', month=10, day=31, observance=sunday_to_monday),\n",
        "     Holiday('St. Patricks Day', month=3, day=17, observance=sunday_to_monday),\n",
        "     Holiday('Good Friday', month=1, day=1, offset=[Easter(), Day(-2)]),\n",
        "     Holiday('Easter', month=1, day=1, offset=[Easter(), Day(0)]),\n",
        "     Holiday('Monday Easter', month=1, day=1, offset=[Easter(), Day(+1)]),\n",
        "     Holiday('All Saints Day', month=11, day=1, observance=sunday_to_monday),\n",
        "     Holiday('Black Friday', month=11, day=1, offset=pd.DateOffset(weekday=FR(4))),\n",
        "        Holiday('Valentine\\'s Day', month=2, day=14),\n",
        "\n",
        "\n",
        "   ]\n",
        "calendar = MoreCalendar()\n",
        "hol2=calendar.holidays(all_incidents.date.min(), end=all_incidents.date.max(),return_name=True)\n"
      ],
      "metadata": {
        "id": "PKsuru7dR6q2"
      },
      "execution_count": null,
      "outputs": []
    },
    {
      "cell_type": "code",
      "source": [
        "hol=pd.concat([hol1,hol2])"
      ],
      "metadata": {
        "id": "0N5c_KlS-YOP"
      },
      "execution_count": null,
      "outputs": []
    },
    {
      "cell_type": "code",
      "source": [
        "all_incidents['isHoliday'] = all_incidents.date.isin(hol.index)\n",
        "hol.name='holiday_name'"
      ],
      "metadata": {
        "id": "vgUwzMR6-LNi"
      },
      "execution_count": null,
      "outputs": []
    },
    {
      "cell_type": "code",
      "source": [
        "gun_holiday=all_incidents.merge(hol,left_on='date',right_index=True,how='left')"
      ],
      "metadata": {
        "id": "KOJ_7iMJb7i3"
      },
      "execution_count": null,
      "outputs": []
    },
    {
      "cell_type": "code",
      "source": [
        "gun_holiday['holiday_name'].unique()"
      ],
      "metadata": {
        "id": "yX79BgrRDsUE"
      },
      "execution_count": null,
      "outputs": []
    },
    {
      "cell_type": "code",
      "source": [
        "tb=gun_holiday.pivot_table(columns='isHoliday',index='is_incident',values='incident_id',aggfunc='count',margins=True)\n",
        "tb_pc=(tb.iloc[:-1,:-1]/tb.iloc[-1,-1])*100\n",
        "tb_pc.style.format('{:.2f}%')\n"
      ],
      "metadata": {
        "id": "97IX60xON1rI"
      },
      "execution_count": null,
      "outputs": []
    },
    {
      "cell_type": "code",
      "source": [
        "ax=pd.crosstab(index=gun_holiday['is_incident'],columns=gun_holiday['isHoliday'],values=gun_holiday['incident_id'],aggfunc='count',normalize=True).plot.bar(stacked=False,color={True:'red',False:'blue'})\n",
        "for p in ax.patches:\n",
        "\n",
        "    ax.annotate('{val:0.2f}%'.format(val=round(p.get_height()*100,2)), (p.get_x(), p.get_height()))\n",
        "\n"
      ],
      "metadata": {
        "id": "R7o4j7tMZxBJ"
      },
      "execution_count": null,
      "outputs": []
    },
    {
      "cell_type": "markdown",
      "source": [
        "**By including the Holidays in the dataset, we find 1.4% of incident without victims correlate with holidays while 3.6 % of incident with vectimes are in holidays**"
      ],
      "metadata": {
        "id": "lxybAfpyaBxo"
      }
    },
    {
      "cell_type": "code",
      "source": [
        "state_list=gun_holiday.query('is_incident==1').groupby('holiday_name')['killed+injures'].agg('mean').sort_values(ascending=False).head(10).index.tolist()\n",
        "#state_list\n",
        "po=sns.pointplot(gun_holiday.query('is_incident==1 and holiday_name in @state_list'),\n",
        "              x='year',y='killed+injures',estimator='sum',hue='holiday_name',hue_order=state_list\n",
        "              )\n",
        "#po.set_xticklabels(['January','February','March','April','May','June','July','August','September','October','November','December'],rotation=40)\n"
      ],
      "metadata": {
        "id": "R_f4730rWF-S"
      },
      "execution_count": null,
      "outputs": []
    },
    {
      "cell_type": "markdown",
      "source": [
        " - 2016,2020 shows jump in the vectimes number durin laber\n",
        " day.\n",
        " - after 2016 the vectimes numbers in independed day increase.\n",
        " - 2021 shows big jump in newyear vectimes.\n",
        " - valintine day and good friday has the lowest number over the years.\n"
      ],
      "metadata": {
        "id": "4r-YSd4NgkC0"
      }
    },
    {
      "cell_type": "code",
      "source": [
        "state_holi=gun_holiday.query('isHoliday==1' ).groupby(['state','holiday_name'])['n_killed'].mean().unstack().T.idxmax()\n",
        "state_holi.reset_index().groupby(0)['state'].apply(list)"
      ],
      "metadata": {
        "id": "cAK_gNsl6gPv"
      },
      "execution_count": null,
      "outputs": []
    },
    {
      "cell_type": "code",
      "source": [
        "state_holi=gun_holiday.groupby(['city','holiday_name'])['incident_id'].count().unstack()\n",
        "state_holi.loc[['San Antonio','Houston','Dallas']].T.sort_values(by='San Antonio',ascending=True).plot.barh(color=['red','black','green'])"
      ],
      "metadata": {
        "id": "TQ6iN0qzHhup"
      },
      "execution_count": null,
      "outputs": []
    }
  ]
}