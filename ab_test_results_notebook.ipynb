{
  "cells": [
    {
      "cell_type": "markdown",
      "metadata": {
        "id": "view-in-github",
        "colab_type": "text"
      },
      "source": [
        "<a href=\"https://colab.research.google.com/github/yassmin1/Analytics_Projects/blob/main/ab_test_results_notebook.ipynb\" target=\"_parent\"><img src=\"https://colab.research.google.com/assets/colab-badge.svg\" alt=\"Open In Colab\"/></a>"
      ]
    },
    {
      "cell_type": "markdown",
      "metadata": {
        "id": "QKhKgxHDATZ8"
      },
      "source": [
        "## Analyzing A/B Test Results\n",
        "**Objective**: The objective of an A/B test project for a web page is to compare two or more versions of a web page to see which one performs better. This can be done by measuring metric as conversion rate.    \n",
        "By running an A/B test, you can gather data to make informed decisions about which version of the web page to use on your live site.\n",
        "#### EDA\n"
      ]
    },
    {
      "cell_type": "code",
      "execution_count": null,
      "metadata": {
        "id": "Jy3bfr6sATaI"
      },
      "outputs": [],
      "source": [
        "import pandas as pd\n",
        "import numpy as np\n",
        "import random\n",
        "import matplotlib.pyplot as plt\n",
        "import seaborn as sns\n",
        "%matplotlib inline\n",
        "#We are setting the seed to assure you get the same answers on quizzes as we set up\n",
        "random.seed(42)"
      ]
    },
    {
      "cell_type": "code",
      "execution_count": null,
      "metadata": {
        "id": "SxMTHrtMATaN",
        "outputId": "72bc9615-f833-4e28-a4b4-70cf64601cc3"
      },
      "outputs": [
        {
          "data": {
            "text/html": [
              "<div>\n",
              "<style scoped>\n",
              "    .dataframe tbody tr th:only-of-type {\n",
              "        vertical-align: middle;\n",
              "    }\n",
              "\n",
              "    .dataframe tbody tr th {\n",
              "        vertical-align: top;\n",
              "    }\n",
              "\n",
              "    .dataframe thead th {\n",
              "        text-align: right;\n",
              "    }\n",
              "</style>\n",
              "<table border=\"1\" class=\"dataframe\">\n",
              "  <thead>\n",
              "    <tr style=\"text-align: right;\">\n",
              "      <th></th>\n",
              "      <th>user_id</th>\n",
              "      <th>timestamp</th>\n",
              "      <th>group</th>\n",
              "      <th>landing_page</th>\n",
              "      <th>converted</th>\n",
              "    </tr>\n",
              "  </thead>\n",
              "  <tbody>\n",
              "    <tr>\n",
              "      <th>0</th>\n",
              "      <td>851104</td>\n",
              "      <td>2017-01-21 22:11:48.556739</td>\n",
              "      <td>control</td>\n",
              "      <td>old_page</td>\n",
              "      <td>0</td>\n",
              "    </tr>\n",
              "    <tr>\n",
              "      <th>1</th>\n",
              "      <td>804228</td>\n",
              "      <td>2017-01-12 08:01:45.159739</td>\n",
              "      <td>control</td>\n",
              "      <td>old_page</td>\n",
              "      <td>0</td>\n",
              "    </tr>\n",
              "    <tr>\n",
              "      <th>2</th>\n",
              "      <td>661590</td>\n",
              "      <td>2017-01-11 16:55:06.154213</td>\n",
              "      <td>treatment</td>\n",
              "      <td>new_page</td>\n",
              "      <td>0</td>\n",
              "    </tr>\n",
              "    <tr>\n",
              "      <th>3</th>\n",
              "      <td>853541</td>\n",
              "      <td>2017-01-08 18:28:03.143765</td>\n",
              "      <td>treatment</td>\n",
              "      <td>new_page</td>\n",
              "      <td>0</td>\n",
              "    </tr>\n",
              "    <tr>\n",
              "      <th>4</th>\n",
              "      <td>864975</td>\n",
              "      <td>2017-01-21 01:52:26.210827</td>\n",
              "      <td>control</td>\n",
              "      <td>old_page</td>\n",
              "      <td>1</td>\n",
              "    </tr>\n",
              "  </tbody>\n",
              "</table>\n",
              "</div>"
            ],
            "text/plain": [
              "   user_id                   timestamp      group landing_page  converted\n",
              "0   851104  2017-01-21 22:11:48.556739    control     old_page          0\n",
              "1   804228  2017-01-12 08:01:45.159739    control     old_page          0\n",
              "2   661590  2017-01-11 16:55:06.154213  treatment     new_page          0\n",
              "3   853541  2017-01-08 18:28:03.143765  treatment     new_page          0\n",
              "4   864975  2017-01-21 01:52:26.210827    control     old_page          1"
            ]
          },
          "execution_count": 2,
          "metadata": {},
          "output_type": "execute_result"
        }
      ],
      "source": [
        "inputdir=r'C:\\Users\\Rayan\\OneDrive\\GreatLearning_DSBA\\business_analytics\\data_analysis_projects\\AB_test\\ab_data.csv'\n",
        "df = pd.read_csv(inputdir)\n",
        "df.head()"
      ]
    },
    {
      "cell_type": "code",
      "execution_count": null,
      "metadata": {
        "id": "lTL8Lj1uATaS",
        "outputId": "1b95ead3-cb1d-43bc-f566-317d98f3af9d"
      },
      "outputs": [
        {
          "data": {
            "text/plain": [
              "(294478, 5)"
            ]
          },
          "execution_count": 3,
          "metadata": {},
          "output_type": "execute_result"
        }
      ],
      "source": [
        "df.shape    # here shape is not a function"
      ]
    },
    {
      "cell_type": "code",
      "execution_count": null,
      "metadata": {
        "id": "4RHcpXV8ATaU",
        "outputId": "7017fe30-3024-4d64-f7de-a83a06b9f7b8"
      },
      "outputs": [
        {
          "data": {
            "text/plain": [
              "<Axes: xlabel='landing_page', ylabel='count'>"
            ]
          },
          "execution_count": 103,
          "metadata": {},
          "output_type": "execute_result"
        },
        {
          "data": {
            "image/png": "[encoded data removed]",
            "text/plain": [
              "<Figure size 432x288 with 1 Axes>"
            ]
          },
          "metadata": {
            "needs_background": "light"
          },
          "output_type": "display_data"
        }
      ],
      "source": [
        "sns.countplot(data=df,x='landing_page')"
      ]
    },
    {
      "cell_type": "code",
      "execution_count": null,
      "metadata": {
        "id": "_6eR7e87ATaW",
        "outputId": "d0d68e4b-ec4b-4622-9b4b-9a9ba71df178"
      },
      "outputs": [
        {
          "data": {
            "text/plain": [
              "<Axes: xlabel='group', ylabel='count'>"
            ]
          },
          "execution_count": 104,
          "metadata": {},
          "output_type": "execute_result"
        },
        {
          "data": {
            "image/png": "[encoded data removed]",
            "text/plain": [
              "<Figure size 432x288 with 1 Axes>"
            ]
          },
          "metadata": {
            "needs_background": "light"
          },
          "output_type": "display_data"
        }
      ],
      "source": [
        "sns.countplot(data=df,x='group')"
      ]
    },
    {
      "cell_type": "code",
      "execution_count": null,
      "metadata": {
        "id": "SpcTH1hKATaX",
        "outputId": "4182aa58-f0d9-4569-bcfd-30453409e64e"
      },
      "outputs": [
        {
          "data": {
            "text/plain": [
              "<Axes: xlabel='converted', ylabel='count'>"
            ]
          },
          "execution_count": 105,
          "metadata": {},
          "output_type": "execute_result"
        },
        {
          "data": {
            "image/png": "[encoded data removed]",
            "text/plain": [
              "<Figure size 432x288 with 1 Axes>"
            ]
          },
          "metadata": {
            "needs_background": "light"
          },
          "output_type": "display_data"
        }
      ],
      "source": [
        "sns.countplot(data=df,x='converted')"
      ]
    },
    {
      "cell_type": "code",
      "execution_count": null,
      "metadata": {
        "id": "0QfwJFnLATaa"
      },
      "outputs": [],
      "source": [
        "df['timestamp']=pd.to_datetime(df['timestamp'])"
      ]
    },
    {
      "cell_type": "code",
      "execution_count": null,
      "metadata": {
        "id": "9yN_Ug7mATac"
      },
      "outputs": [],
      "source": [
        "df.sort_values(by='timestamp',inplace=True)"
      ]
    },
    {
      "cell_type": "code",
      "execution_count": null,
      "metadata": {
        "id": "znaBIflVATae",
        "outputId": "03346d87-dd77-4e9f-b412-00b0d829973d"
      },
      "outputs": [
        {
          "name": "stdout",
          "output_type": "stream",
          "text": [
            "[2017]\n",
            "[1]\n"
          ]
        }
      ],
      "source": [
        "print(df['timestamp'].dt.year.unique())\n",
        "print(df['timestamp'].dt.month.unique())\n",
        "df['month']=df['timestamp'].dt.month\n",
        "df['weekday']=df['timestamp'].dt.weekday\n",
        "df['day']=df['timestamp'].dt.day"
      ]
    },
    {
      "cell_type": "code",
      "execution_count": null,
      "metadata": {
        "id": "loww-m9TATah",
        "outputId": "307d1004-c79f-4b36-8b73-8982dc731709"
      },
      "outputs": [
        {
          "data": {
            "text/plain": [
              "<Axes: xlabel='weekday'>"
            ]
          },
          "execution_count": 178,
          "metadata": {},
          "output_type": "execute_result"
        },
        {
          "data": {
            "image/png": "[encoded data removed]",
            "text/plain": [
              "<Figure size 432x288 with 1 Axes>"
            ]
          },
          "metadata": {
            "needs_background": "light"
          },
          "output_type": "display_data"
        }
      ],
      "source": [
        "df.groupby(['weekday','group'])['converted'].sum().unstack().plot.bar()"
      ]
    },
    {
      "cell_type": "code",
      "execution_count": null,
      "metadata": {
        "id": "rpLwGl96ATaj",
        "outputId": "ded16baf-f3ec-4138-f2c6-4738c7d44a1a"
      },
      "outputs": [
        {
          "data": {
            "text/plain": [
              "<Axes: xlabel='day'>"
            ]
          },
          "execution_count": 176,
          "metadata": {},
          "output_type": "execute_result"
        },
        {
          "data": {
            "image/png": "[encoded data removed]",
            "text/plain": [
              "<Figure size 432x288 with 1 Axes>"
            ]
          },
          "metadata": {
            "needs_background": "light"
          },
          "output_type": "display_data"
        }
      ],
      "source": [
        "df.groupby(['day','group'])['converted'].sum().unstack().plot.bar()"
      ]
    },
    {
      "cell_type": "code",
      "execution_count": null,
      "metadata": {
        "id": "Fv38Tlx7ATak",
        "outputId": "0656910c-85b0-45d8-ce08-e0513f6d2904"
      },
      "outputs": [
        {
          "data": {
            "text/plain": [
              "290584"
            ]
          },
          "execution_count": 4,
          "metadata": {},
          "output_type": "execute_result"
        }
      ],
      "source": [
        "#the number of unique user IDs in a pandas DataFrame called df.\n",
        "# The nunique() method is used to count the number of unique values in the 'user_id'\n",
        "# column of the DataFrame. The result is stored in the variable unique_user.\n",
        "unique_user = df['user_id'].nunique()\n",
        "unique_user"
      ]
    },
    {
      "cell_type": "code",
      "execution_count": null,
      "metadata": {
        "id": "F4AdIGQLATal",
        "outputId": "f7709f4a-a30f-4a09-a059-0b51da020a86"
      },
      "outputs": [
        {
          "data": {
            "text/plain": [
              "0.11965919355605512"
            ]
          },
          "execution_count": 5,
          "metadata": {},
          "output_type": "execute_result"
        }
      ],
      "source": [
        "df.converted.mean()   # here ask the users converted"
      ]
    },
    {
      "cell_type": "code",
      "execution_count": null,
      "metadata": {
        "id": "YSyJkGWTATan"
      },
      "outputs": [],
      "source": [
        "#The number of times the `new_page` and `treatment` don't line up.\n",
        "not_line_up_1 = df.query(\" group=='treatment' and landing_page=='old_page'\").count()"
      ]
    },
    {
      "cell_type": "code",
      "execution_count": null,
      "metadata": {
        "id": "N24Dv_UDATan"
      },
      "outputs": [],
      "source": [
        "not_line_up_2 = df.query(\" group=='control' and landing_page=='new_page'\").count()"
      ]
    },
    {
      "cell_type": "code",
      "execution_count": null,
      "metadata": {
        "id": "7t-IrJiDATao",
        "outputId": "bee1c4e2-556a-4b18-cefe-b9d70e742076"
      },
      "outputs": [
        {
          "data": {
            "text/plain": [
              "user_id         3893\n",
              "timestamp       3893\n",
              "group           3893\n",
              "landing_page    3893\n",
              "converted       3893\n",
              "dtype: int64"
            ]
          },
          "execution_count": 8,
          "metadata": {},
          "output_type": "execute_result"
        }
      ],
      "source": [
        "not_line_up_1 + not_line_up_2"
      ]
    },
    {
      "cell_type": "code",
      "execution_count": null,
      "metadata": {
        "id": "Rs-vFCr8ATap",
        "outputId": "730c7cbc-9beb-4131-8a6c-dc7dc7890a51"
      },
      "outputs": [
        {
          "data": {
            "text/plain": [
              "user_id         0\n",
              "timestamp       0\n",
              "group           0\n",
              "landing_page    0\n",
              "converted       0\n",
              "dtype: int64"
            ]
          },
          "execution_count": 9,
          "metadata": {},
          "output_type": "execute_result"
        }
      ],
      "source": [
        "df.isnull().sum()"
      ]
    },
    {
      "cell_type": "code",
      "execution_count": null,
      "metadata": {
        "id": "YYG2MaoNATap",
        "outputId": "c5d6250a-2656-4c68-c096-c8945e2ec05b"
      },
      "outputs": [
        {
          "data": {
            "text/html": [
              "<div>\n",
              "<style scoped>\n",
              "    .dataframe tbody tr th:only-of-type {\n",
              "        vertical-align: middle;\n",
              "    }\n",
              "\n",
              "    .dataframe tbody tr th {\n",
              "        vertical-align: top;\n",
              "    }\n",
              "\n",
              "    .dataframe thead th {\n",
              "        text-align: right;\n",
              "    }\n",
              "</style>\n",
              "<table border=\"1\" class=\"dataframe\">\n",
              "  <thead>\n",
              "    <tr style=\"text-align: right;\">\n",
              "      <th></th>\n",
              "      <th>user_id</th>\n",
              "      <th>timestamp</th>\n",
              "      <th>group</th>\n",
              "      <th>landing_page</th>\n",
              "      <th>converted</th>\n",
              "    </tr>\n",
              "  </thead>\n",
              "  <tbody>\n",
              "    <tr>\n",
              "      <th>0</th>\n",
              "      <td>851104</td>\n",
              "      <td>2017-01-21 22:11:48.556739</td>\n",
              "      <td>control</td>\n",
              "      <td>old_page</td>\n",
              "      <td>0</td>\n",
              "    </tr>\n",
              "    <tr>\n",
              "      <th>1</th>\n",
              "      <td>804228</td>\n",
              "      <td>2017-01-12 08:01:45.159739</td>\n",
              "      <td>control</td>\n",
              "      <td>old_page</td>\n",
              "      <td>0</td>\n",
              "    </tr>\n",
              "    <tr>\n",
              "      <th>2</th>\n",
              "      <td>661590</td>\n",
              "      <td>2017-01-11 16:55:06.154213</td>\n",
              "      <td>treatment</td>\n",
              "      <td>new_page</td>\n",
              "      <td>0</td>\n",
              "    </tr>\n",
              "    <tr>\n",
              "      <th>3</th>\n",
              "      <td>853541</td>\n",
              "      <td>2017-01-08 18:28:03.143765</td>\n",
              "      <td>treatment</td>\n",
              "      <td>new_page</td>\n",
              "      <td>0</td>\n",
              "    </tr>\n",
              "    <tr>\n",
              "      <th>4</th>\n",
              "      <td>864975</td>\n",
              "      <td>2017-01-21 01:52:26.210827</td>\n",
              "      <td>control</td>\n",
              "      <td>old_page</td>\n",
              "      <td>1</td>\n",
              "    </tr>\n",
              "  </tbody>\n",
              "</table>\n",
              "</div>"
            ],
            "text/plain": [
              "   user_id                   timestamp      group landing_page  converted\n",
              "0   851104  2017-01-21 22:11:48.556739    control     old_page          0\n",
              "1   804228  2017-01-12 08:01:45.159739    control     old_page          0\n",
              "2   661590  2017-01-11 16:55:06.154213  treatment     new_page          0\n",
              "3   853541  2017-01-08 18:28:03.143765  treatment     new_page          0\n",
              "4   864975  2017-01-21 01:52:26.210827    control     old_page          1"
            ]
          },
          "execution_count": 10,
          "metadata": {},
          "output_type": "execute_result"
        }
      ],
      "source": [
        "# only store the aligned data in df2\n",
        "df2 = df[((df['group'] == 'treatment') == (df['landing_page'] == 'new_page')) == True]\n",
        "df2.head()"
      ]
    },
    {
      "cell_type": "code",
      "execution_count": null,
      "metadata": {
        "id": "kWq4lcqwATar",
        "outputId": "6f335be4-0a06-417f-89f2-c748c6255497"
      },
      "outputs": [
        {
          "data": {
            "text/plain": [
              "0"
            ]
          },
          "execution_count": 11,
          "metadata": {},
          "output_type": "execute_result"
        }
      ],
      "source": [
        "# Double Check all of the incorrect rows were removed - this should be 0\n",
        "df2[((df2['group'] == 'treatment') == (df2['landing_page'] == 'new_page')) == False].shape[0]"
      ]
    },
    {
      "cell_type": "code",
      "execution_count": null,
      "metadata": {
        "id": "S2niYQX8ATas",
        "outputId": "9cbe83ec-096e-40bd-d744-c547f3616614"
      },
      "outputs": [
        {
          "data": {
            "text/plain": [
              "0    255832\n",
              "1     34753\n",
              "Name: converted, dtype: int64"
            ]
          },
          "execution_count": 12,
          "metadata": {},
          "output_type": "execute_result"
        }
      ],
      "source": [
        "df2['converted'].value_counts()"
      ]
    },
    {
      "cell_type": "code",
      "execution_count": null,
      "metadata": {
        "id": "vRqmVLNhATau",
        "outputId": "2fba6f92-8140-4962-8ea2-4ccf2d5ef549"
      },
      "outputs": [
        {
          "data": {
            "text/plain": [
              "290584"
            ]
          },
          "execution_count": 13,
          "metadata": {},
          "output_type": "execute_result"
        }
      ],
      "source": [
        "df2['user_id'].nunique()"
      ]
    },
    {
      "cell_type": "code",
      "execution_count": null,
      "metadata": {
        "id": "j6LdSN5TATaw",
        "outputId": "d3a6a402-0c93-4305-ab05-cc0e941f752a"
      },
      "outputs": [
        {
          "data": {
            "text/plain": [
              "1"
            ]
          },
          "execution_count": 14,
          "metadata": {},
          "output_type": "execute_result"
        }
      ],
      "source": [
        "df2['user_id'].duplicated().sum()"
      ]
    },
    {
      "cell_type": "code",
      "execution_count": null,
      "metadata": {
        "id": "ttQIdc1tATax",
        "outputId": "5544f11c-3e17-4043-85c9-24e3004a518b"
      },
      "outputs": [
        {
          "data": {
            "text/html": [
              "<div>\n",
              "<style scoped>\n",
              "    .dataframe tbody tr th:only-of-type {\n",
              "        vertical-align: middle;\n",
              "    }\n",
              "\n",
              "    .dataframe tbody tr th {\n",
              "        vertical-align: top;\n",
              "    }\n",
              "\n",
              "    .dataframe thead th {\n",
              "        text-align: right;\n",
              "    }\n",
              "</style>\n",
              "<table border=\"1\" class=\"dataframe\">\n",
              "  <thead>\n",
              "    <tr style=\"text-align: right;\">\n",
              "      <th></th>\n",
              "      <th>user_id</th>\n",
              "      <th>timestamp</th>\n",
              "      <th>group</th>\n",
              "      <th>landing_page</th>\n",
              "      <th>converted</th>\n",
              "    </tr>\n",
              "  </thead>\n",
              "  <tbody>\n",
              "    <tr>\n",
              "      <th>1899</th>\n",
              "      <td>773192</td>\n",
              "      <td>2017-01-09 05:37:58.781806</td>\n",
              "      <td>treatment</td>\n",
              "      <td>new_page</td>\n",
              "      <td>0</td>\n",
              "    </tr>\n",
              "    <tr>\n",
              "      <th>2893</th>\n",
              "      <td>773192</td>\n",
              "      <td>2017-01-14 02:55:59.590927</td>\n",
              "      <td>treatment</td>\n",
              "      <td>new_page</td>\n",
              "      <td>0</td>\n",
              "    </tr>\n",
              "  </tbody>\n",
              "</table>\n",
              "</div>"
            ],
            "text/plain": [
              "      user_id                   timestamp      group landing_page  converted\n",
              "1899   773192  2017-01-09 05:37:58.781806  treatment     new_page          0\n",
              "2893   773192  2017-01-14 02:55:59.590927  treatment     new_page          0"
            ]
          },
          "execution_count": 15,
          "metadata": {},
          "output_type": "execute_result"
        }
      ],
      "source": [
        "# to show the duplicated two rows , set \"keep = False\"\n",
        "df2[df2['user_id'].duplicated(keep=False)]"
      ]
    },
    {
      "cell_type": "code",
      "execution_count": null,
      "metadata": {
        "id": "DAtQptIxATaz",
        "outputId": "6665150d-6693-482d-fc2a-1af859e41447"
      },
      "outputs": [
        {
          "data": {
            "text/plain": [
              "0"
            ]
          },
          "execution_count": 16,
          "metadata": {},
          "output_type": "execute_result"
        }
      ],
      "source": [
        "# drop duplicates\n",
        "df2.drop_duplicates(keep='first')\n",
        "df2.duplicated().sum()"
      ]
    },
    {
      "cell_type": "code",
      "execution_count": null,
      "metadata": {
        "id": "uw9ZRjBdATa0",
        "outputId": "5aea5322-bee0-446f-e075-ee2be5469884"
      },
      "outputs": [
        {
          "data": {
            "text/plain": [
              "0.1196"
            ]
          },
          "execution_count": 17,
          "metadata": {},
          "output_type": "execute_result"
        }
      ],
      "source": [
        "round(df2.converted.mean(),4)"
      ]
    },
    {
      "cell_type": "code",
      "execution_count": null,
      "metadata": {
        "id": "e8bT7Xr3ATa2",
        "outputId": "c5b20f4d-da80-44f9-9db9-b7588cc2d2d4"
      },
      "outputs": [
        {
          "data": {
            "text/plain": [
              "0.0"
            ]
          },
          "execution_count": 18,
          "metadata": {},
          "output_type": "execute_result"
        }
      ],
      "source": [
        "# Given that an individual was in the `control` group, what is the probability they converted?\n",
        "# Bayes rules\n",
        "control_ver =float(df2.query(\"group=='control' and converted=='1'\")['user_id'].nunique() )\n",
        "control = float(df2.query(\"group=='control'\")['user_id'].nunique())\n",
        "round(control_ver / control,4)"
      ]
    },
    {
      "cell_type": "code",
      "execution_count": null,
      "metadata": {
        "id": "cm4Nom_GATa4",
        "outputId": "9fc72d39-fd83-49ea-fa4e-773a4be5aa77"
      },
      "outputs": [
        {
          "data": {
            "text/plain": [
              "0.0"
            ]
          },
          "execution_count": 19,
          "metadata": {},
          "output_type": "execute_result"
        }
      ],
      "source": [
        "# Given that an individual was in the `treatment` group, what is the probability they converted?\n",
        "# Bayes rules\n",
        "treat_ver =float(df2.query(\"group=='treatment' and converted=='1'\")['user_id'].nunique() )\n",
        "treat = float(df2.query(\"group=='treatment'\")['user_id'].nunique())\n",
        "round(treat_ver / treat,4)"
      ]
    },
    {
      "cell_type": "code",
      "execution_count": null,
      "metadata": {
        "id": "GmnWrB3aATa6",
        "outputId": "30443895-d884-4775-8ba2-83a94b94aa1f"
      },
      "outputs": [
        {
          "data": {
            "text/plain": [
              "0.5001"
            ]
          },
          "execution_count": 20,
          "metadata": {},
          "output_type": "execute_result"
        }
      ],
      "source": [
        "# What is the probability that an individual received the new page?\n",
        "new_page = float(df2.query(\"landing_page == 'new_page'\")['user_id'].nunique())\n",
        "total = float(df2.shape[0])\n",
        "round(new_page / total,4)"
      ]
    },
    {
      "cell_type": "code",
      "execution_count": null,
      "metadata": {
        "id": "jJPY56JUATa7",
        "outputId": "d3ff0d82-340f-4443-aa0c-07ec73af6713"
      },
      "outputs": [
        {
          "data": {
            "text/plain": [
              "0.1188"
            ]
          },
          "execution_count": 21,
          "metadata": {},
          "output_type": "execute_result"
        }
      ],
      "source": [
        "# What is the converted probability Given that an individual was in new landing page?\n",
        "old_page = float(df2.query(\"landing_page == 'new_page' and converted == 1 \")['user_id'].nunique())\n",
        "total = float(df2.query(\"landing_page == 'new_page'\")['user_id'].nunique())\n",
        "\n",
        "round(old_page / total,4)"
      ]
    },
    {
      "cell_type": "markdown",
      "metadata": {
        "id": "qD6P10W8ATa-"
      },
      "source": [
        "<a id='ab_test'></a>\n",
        "##  A/B Test\n",
        "\n",
        "#### to expaline the results :\n",
        "* If P value is really small,  less likely to observe the statistic in the null , more likely from the alternative.\n",
        "* p-value is large you will end up staying with the null hypothesis as your choice.\n",
        "\n",
        "* Type 1 error threshold is alpha\n",
        "* If p < alpha ,  reject the null , choose H1\n",
        "* If p > alpha , fail to reject the null, choose H0\n",
        "\n",
        "\n",
        "\n",
        "\n"
      ]
    },
    {
      "cell_type": "markdown",
      "metadata": {
        "id": "ERkCJ6ZRATbA"
      },
      "source": [
        "`1.` For now, consider you need to make the decision just based on all the data provided.  If you want to assume that the old page is better unless the new page proves to be definitely better at a Type I error rate of 5%, what should your null and alternative hypotheses be?  You can state your hypothesis in terms of words or in terms of **$p_{old}$** and **$p_{new}$**."
      ]
    },
    {
      "cell_type": "markdown",
      "metadata": {
        "id": "axY-wRwZATbD"
      },
      "source": [
        " which are the converted rates for the old and new pages?     \n",
        "\n",
        "* H_O : p(new)-p(old)<=0  old has better conversion\n",
        "* H_1 : p(new)-p(old)>0   new has better conversion\n"
      ]
    },
    {
      "cell_type": "markdown",
      "metadata": {
        "id": "C-rXeCysATbD"
      },
      "source": [
        "Assume under the null hypothesis, $p_{new}$ and $p_{old}$ both have \"true\" success rates equal to the **converted** success rate regardless of page - that is $p_{new}$ and $p_{old}$ are equal. Furthermore, assume they are equal to the **converted** rate in **ab_data.csv** regardless of the page. <br><br>\n",
        "Use a sample size for each page equal to the ones in **ab_data.csv**.  <br><br>\n",
        "Perform the sampling distribution for the difference in **converted** between the two pages over 10,000 iterations of calculating an estimate from the null.  <br><br>\n"
      ]
    },
    {
      "cell_type": "code",
      "execution_count": null,
      "metadata": {
        "id": "GXZFul1BATbE",
        "outputId": "435d4d1e-4f84-442f-91b7-d4ad134dcc2d"
      },
      "outputs": [
        {
          "name": "stdout",
          "output_type": "stream",
          "text": [
            "0.1196\n"
          ]
        }
      ],
      "source": [
        "# What is the **convert rate** for $p_{new}$ under the null?\n",
        "\n",
        "p_new = round(float(df2.query('converted==1').user_id.nunique()) / float(df2.shape[0]), 4)\n",
        "print(p_new)\n"
      ]
    },
    {
      "cell_type": "code",
      "execution_count": null,
      "metadata": {
        "id": "jhes5xzPATbF",
        "outputId": "907a7025-197e-428e-f1bd-e1fdca9de3c1"
      },
      "outputs": [
        {
          "data": {
            "text/plain": [
              "0.1196"
            ]
          },
          "execution_count": 63,
          "metadata": {},
          "output_type": "execute_result"
        }
      ],
      "source": [
        "# What is the **convert rate** for $p_{old}$ under the null? <br><br>\n",
        "p_old = round(float(df2.query('converted==1').user_id.nunique()) / float(df2.shape[0]) , 4 )\n",
        "p_old"
      ]
    },
    {
      "cell_type": "code",
      "execution_count": null,
      "metadata": {
        "id": "2s2jt8LtATbG",
        "outputId": "0746cdaf-eca1-4770-fc4a-6159dc147611"
      },
      "outputs": [
        {
          "data": {
            "text/plain": [
              "145310"
            ]
          },
          "execution_count": 64,
          "metadata": {},
          "output_type": "execute_result"
        }
      ],
      "source": [
        "# unique number of accessing new page\n",
        "N_new = df2.query('landing_page == \"new_page\"')['user_id'].nunique()\n",
        "N_new\n"
      ]
    },
    {
      "cell_type": "code",
      "execution_count": null,
      "metadata": {
        "id": "Fgz__XcIATbG",
        "outputId": "27c615b6-857a-4f54-d9fe-34de22feee62"
      },
      "outputs": [
        {
          "data": {
            "text/plain": [
              "145274"
            ]
          },
          "execution_count": 65,
          "metadata": {},
          "output_type": "execute_result"
        }
      ],
      "source": [
        "# unique number of accessing old page\n",
        "N_old = df2.query('landing_page == \"old_page\"')['user_id'].nunique()\n",
        "N_old"
      ]
    },
    {
      "cell_type": "markdown",
      "metadata": {
        "id": "nG7YQUlEATbH"
      },
      "source": [
        "\n",
        "\n",
        "e. Simulate $n_{new}$ transactions with a convert rate of $p_{new}$ under the null.  Store these $n_{new}$ 1's and 0's in **new_page_converted**."
      ]
    },
    {
      "cell_type": "code",
      "execution_count": null,
      "metadata": {
        "id": "yLDScbvmATbd",
        "outputId": "6f2fcb83-9be6-4cc9-f7ff-b576fd2eec34"
      },
      "outputs": [
        {
          "data": {
            "text/plain": [
              "array([1, 1, 1, ..., 1, 1, 1])"
            ]
          },
          "execution_count": 66,
          "metadata": {},
          "output_type": "execute_result"
        }
      ],
      "source": [
        "new_page_converted = np.random.choice([0,1] , N_new , p=(p_new,1-p_new))\n",
        "new_page_converted\n"
      ]
    },
    {
      "cell_type": "code",
      "execution_count": null,
      "metadata": {
        "id": "eY0dWAbJATbe",
        "outputId": "bba8ec21-90e3-4136-8605-75bca2e8b7f8"
      },
      "outputs": [
        {
          "data": {
            "text/plain": [
              "<Axes: ylabel='Density'>"
            ]
          },
          "execution_count": 74,
          "metadata": {},
          "output_type": "execute_result"
        },
        {
          "data": {
            "image/png": "[encoded data removed]",
            "text/plain": [
              "<Figure size 432x288 with 1 Axes>"
            ]
          },
          "metadata": {
            "needs_background": "light"
          },
          "output_type": "display_data"
        }
      ],
      "source": [
        "sns.kdeplot(new_page_converted)"
      ]
    },
    {
      "cell_type": "markdown",
      "metadata": {
        "id": "WdALlWjhATbe"
      },
      "source": [
        "### Simulate $n_{old}$ transactions with a convert rate of $p_{old}$ under the null.  Store these $n_{old}$ 1's and 0's in **old_page_converted**."
      ]
    },
    {
      "cell_type": "code",
      "execution_count": null,
      "metadata": {
        "id": "CRvI1q_QATbf",
        "outputId": "7fd55826-a7e2-4416-b861-3806d543383b"
      },
      "outputs": [
        {
          "data": {
            "text/plain": [
              "array([1, 1, 1, ..., 1, 1, 1])"
            ]
          },
          "execution_count": 67,
          "metadata": {},
          "output_type": "execute_result"
        }
      ],
      "source": [
        "old_page_converted = np.random.choice([0,1] , N_old , p=(p_old,1-p_old))\n",
        "old_page_converted"
      ]
    },
    {
      "cell_type": "code",
      "execution_count": null,
      "metadata": {
        "id": "QQ6rTL5LATbf",
        "outputId": "0e22cf06-9845-4dee-81f8-b7a2f1e0a6e5"
      },
      "outputs": [
        {
          "data": {
            "text/plain": [
              "<Axes: ylabel='Density'>"
            ]
          },
          "execution_count": 73,
          "metadata": {},
          "output_type": "execute_result"
        },
        {
          "data": {
            "image/png": "[encoded data removed]",
            "text/plain": [
              "<Figure size 432x288 with 1 Axes>"
            ]
          },
          "metadata": {
            "needs_background": "light"
          },
          "output_type": "display_data"
        }
      ],
      "source": [
        "sns.kdeplot(old_page_converted)"
      ]
    },
    {
      "cell_type": "code",
      "execution_count": null,
      "metadata": {
        "id": "kmo8KencATbg",
        "outputId": "6c105393-b735-4db9-9db4-53951b435dcd"
      },
      "outputs": [
        {
          "data": {
            "text/plain": [
              "(0.8789966278989746, 0.8808871511763977)"
            ]
          },
          "execution_count": 75,
          "metadata": {},
          "output_type": "execute_result"
        }
      ],
      "source": [
        "new_page_converted.mean() , old_page_converted.mean()"
      ]
    },
    {
      "cell_type": "code",
      "execution_count": null,
      "metadata": {
        "id": "yy7Xp7uoATbg",
        "outputId": "0b73ea74-e8bc-4d17-de5d-700ed06e35f6"
      },
      "outputs": [
        {
          "data": {
            "text/plain": [
              "-0.0018905232774231173"
            ]
          },
          "execution_count": 76,
          "metadata": {},
          "output_type": "execute_result"
        }
      ],
      "source": [
        "# Find $p_{new}$ - $p_{old}$ for your simulated values from part (e) and (f).\n",
        "obs_diff = new_page_converted.mean() - old_page_converted.mean()\n",
        "obs_diff"
      ]
    },
    {
      "cell_type": "code",
      "execution_count": null,
      "metadata": {
        "id": "2RrkK-QfATbh"
      },
      "outputs": [],
      "source": [
        "# Simulate 10,000 $p_{new}$ - $p_{old}$ values using this same process similarly to the one you calculated in parts **a. through g.** above.  Store all 10,000 values in **p_diffs**.\n",
        "\n",
        "p_diffs=[]\n",
        "new_convert=np.random.binomial(N_new, p_new, 10000)/N_new\n",
        "old_convert=np.random.binomial(N_old, p_old, 10000)/N_old\n",
        "p_diffs=new_convert-old_convert\n",
        "\n",
        "\n"
      ]
    },
    {
      "cell_type": "code",
      "execution_count": null,
      "metadata": {
        "id": "DNVdQl2gATbh",
        "outputId": "d541a7ca-837c-44c6-af93-d1fb2e007eac"
      },
      "outputs": [
        {
          "data": {
            "text/plain": [
              "<Axes: ylabel='Density'>"
            ]
          },
          "execution_count": 79,
          "metadata": {},
          "output_type": "execute_result"
        },
        {
          "data": {
            "image/png": "[encoded data removed]",
            "text/plain": [
              "<Figure size 432x288 with 1 Axes>"
            ]
          },
          "metadata": {
            "needs_background": "light"
          },
          "output_type": "display_data"
        }
      ],
      "source": [
        "# i. Plot a histogram of the **p_diffs**.  Does this plot look like what you expected?\n",
        "# Use the matching problem in the classroom to assure you fully understand what was computed here.\n",
        "p_diffs = np.array(p_diffs)\n",
        "sns.kdeplot(p_diffs)\n"
      ]
    },
    {
      "cell_type": "code",
      "execution_count": null,
      "metadata": {
        "id": "wvYxXfWpATbi",
        "outputId": "c2409de3-de2d-4274-94fa-46d571328bc8"
      },
      "outputs": [
        {
          "data": {
            "text/plain": [
              "-0.0015782389853555567"
            ]
          },
          "execution_count": 32,
          "metadata": {},
          "output_type": "execute_result"
        }
      ],
      "source": [
        "#We perform this analysis to determine the observed difference in conversion rate between two landing pages\n",
        "# in a dataset. This can help us\n",
        "# understand how the design of the website or marketing campaign affected the conversion rates for each page.\n",
        "#compute actual conversion rate\n",
        "# number of landing new page and converted  / number of landing new page\n",
        "converted_new = df2.query('converted == 1 and landing_page== \"new_page\"')['user_id'].nunique()\n",
        "actual_new = float(converted_new) / float(N_new)\n",
        "\n",
        "# number of landing old page and converted  / number of landing old page\n",
        "converted_old = df2.query('converted == 1 and landing_page== \"old_page\"')['user_id'].nunique()\n",
        "actual_old = float(converted_old) / float(N_old)\n",
        "\n",
        "#observed difference in converted rate\n",
        "obs_diff = actual_diff = actual_new - actual_old\n",
        "obs_diff"
      ]
    },
    {
      "cell_type": "code",
      "execution_count": null,
      "metadata": {
        "id": "S49WXWU3ATbi"
      },
      "outputs": [],
      "source": [
        "# What proportion of the **p_diffs** are greater than the actual difference observed in **ab_data.csv**?\n",
        "# create distribution under the null hypothesis\n",
        "null_vals = np.random.normal(0, p_diffs.std(), p_diffs.size)"
      ]
    },
    {
      "cell_type": "code",
      "execution_count": null,
      "metadata": {
        "id": "SA6xS-Q7ATbj",
        "outputId": "7577ff69-62d6-4e39-b589-bc9db14dc128"
      },
      "outputs": [
        {
          "data": {
            "text/plain": [
              "<matplotlib.lines.Line2D at 0x253b71dacd0>"
            ]
          },
          "execution_count": 82,
          "metadata": {},
          "output_type": "execute_result"
        },
        {
          "data": {
            "image/png": "[encoded data removed]",
            "text/plain": [
              "<Figure size 432x288 with 1 Axes>"
            ]
          },
          "metadata": {
            "needs_background": "light"
          },
          "output_type": "display_data"
        }
      ],
      "source": [
        "#Plot Null distribution\n",
        "sns.kdeplot(null_vals)\n",
        "#Plot vertical line for observed statistic\n",
        "plt.axvline(x=obs_diff,color ='red')"
      ]
    },
    {
      "cell_type": "code",
      "execution_count": null,
      "metadata": {
        "id": "4Yh8jLUrATbj",
        "outputId": "5a8c595b-db26-411e-8b78-62e70121bc9a"
      },
      "outputs": [
        {
          "data": {
            "text/plain": [
              "0.9444"
            ]
          },
          "execution_count": 83,
          "metadata": {},
          "output_type": "execute_result"
        }
      ],
      "source": [
        "(null_vals > obs_diff).mean()"
      ]
    },
    {
      "cell_type": "markdown",
      "metadata": {
        "id": "UPLV3kUCATbk"
      },
      "source": [
        "The value 0.9061 we call it P-value, which suggests if there is a significant difference between 2 groups for a hypothesis. In this case, the new page doesn't have better conversion rates than the old page because the value 0.9 is much higher than the alpha, 0.05(Type I error rate ). We fail to reject the null. Therefore, the data show, with a type I error rate of 0.05, that the old page has higher probablity of convert rate than new page."
      ]
    },
    {
      "cell_type": "markdown",
      "metadata": {
        "id": "sVaKwKuMATbl"
      },
      "source": [
        "### using statsmodels\n",
        " We could also use a built-in to achieve similar results.  Though using the built-in might be easier to code, the above portions are a walkthrough of the ideas that are critical to correctly thinking about statistical significance. Fill in the below to calculate the number of conversions for each page, as well as the number of individuals who received each page. Let `n_old` and `n_new` refer the the number of rows associated with the old page and new pages, respectively."
      ]
    },
    {
      "cell_type": "code",
      "execution_count": null,
      "metadata": {
        "id": "Z4P7jiqbATbl",
        "outputId": "51c2a51e-f7ac-4342-fb36-fa8a1d7a9cf9"
      },
      "outputs": [
        {
          "data": {
            "text/plain": [
              "(17489, 17264, 145274, 145310)"
            ]
          },
          "execution_count": 84,
          "metadata": {},
          "output_type": "execute_result"
        }
      ],
      "source": [
        "import statsmodels.api as sm\n",
        "\n",
        "convert_old = df2.query('converted == 1 and landing_page== \"old_page\"').user_id.nunique()\n",
        "convert_new = converted_old = df2.query('converted == 1 and landing_page== \"new_page\"').user_id.nunique()\n",
        "n_old = df2.query('landing_page == \"old_page\"')['user_id'].nunique()\n",
        "n_new = df2.query('landing_page == \"new_page\"')['user_id'].nunique()\n",
        "\n",
        "convert_old,convert_new , n_old , n_new"
      ]
    },
    {
      "cell_type": "markdown",
      "metadata": {
        "id": "vSWT76K9ATbm"
      },
      "source": [
        "Now use `stats.proportions_ztest` to compute your test statistic and p-value.  [Here](http://knowledgetack.com/python/statsmodels/proportions_ztest/) is a helpful link on using the built in.\n",
        "The formula for performing a z-test for proportions is:\n",
        "\n",
        "z = (p1 - p2 - 0) / sqrt(p1 * (1 - p1) / n1 + p2 * (1 - p2) / n2)\n",
        "\n",
        "where:\n",
        "\n",
        "z is the calculated z-score\n",
        "p1 and p2 are the proportions in the two groups\n",
        "n1 and n2 are the sample sizes in the two groups\n",
        "The z-score is calculated by subtracting the proportion of one group from the proportion of the other group from 0, and then dividing by the standard\n",
        "\n",
        "\n"
      ]
    },
    {
      "cell_type": "code",
      "execution_count": null,
      "metadata": {
        "id": "FlymwQcPATbm",
        "outputId": "66b9a0fc-5b18-47ac-955a-bc3549ee9882"
      },
      "outputs": [
        {
          "data": {
            "text/plain": [
              "(-1.311, 0.905)"
            ]
          },
          "execution_count": 89,
          "metadata": {},
          "output_type": "execute_result"
        }
      ],
      "source": [
        "# compute the sm.stats.proportions_ztest using the alternative\n",
        "#  it's a one tail test so a z-score past 1.96 will be significant.\n",
        "z_score, p_value = sm.stats.proportions_ztest(np.array([convert_new,convert_old]),np.array([n_new,n_old]), alternative = 'larger')\n",
        "z_score, p_value=round(z_score,3), round(p_value,3)\n",
        "z_score, p_value\n"
      ]
    },
    {
      "cell_type": "code",
      "execution_count": null,
      "metadata": {
        "id": "kbSMOWEkATbn",
        "outputId": "7f05a14c-0a43-4953-db89-7a706997327e"
      },
      "outputs": [
        {
          "data": {
            "text/plain": [
              "-0.0015782389853555567"
            ]
          },
          "execution_count": 90,
          "metadata": {},
          "output_type": "execute_result"
        }
      ],
      "source": [
        "#We perform this analysis to determine the observed difference in conversion rate between two landing pages\n",
        "# in a dataset. This can help us\n",
        "# understand how the design of the website or marketing campaign affected the conversion rates for each page.\n",
        "#compute actual conversion rate\n",
        "# number of landing new page and converted  / number of landing new page\n",
        "converted_new = df2.query('converted == 1 and landing_page== \"new_page\"')['user_id'].nunique()\n",
        "actual_new = float(converted_new) / float(N_new)\n",
        "\n",
        "# number of landing old page and converted  / number of landing old page\n",
        "converted_old = df2.query('converted == 1 and landing_page== \"old_page\"')['user_id'].nunique()\n",
        "actual_old = float(converted_old) / float(N_old)\n",
        "\n",
        "#observed difference in converted rate\n",
        "obs_diff = actual_diff = actual_new - actual_old\n",
        "obs_diff"
      ]
    },
    {
      "cell_type": "code",
      "execution_count": null,
      "metadata": {
        "id": "-BnS-1-jATbo",
        "outputId": "c1961ddd-aa49-4ea1-9363-72f525737d3b"
      },
      "outputs": [
        {
          "data": {
            "text/plain": [
              "-0.0015782389853555567"
            ]
          },
          "metadata": {},
          "output_type": "display_data"
        }
      ],
      "source": [
        "#We perform this analysis to determine the observed difference in conversion rate between two landing pages\n",
        "# in a dataset. This can help us\n",
        "# understand how the design of the website or marketing campaign affected the conversion rates for each page.\n",
        "#compute actual conversion rate\n",
        "# number of landing new page and converted  / number of landing new page\n",
        "converted_new = df2.query('converted == 1 and landing_page== \"new_page\"')['user_id'].nunique()\n",
        "actual_new = float(converted_new) / float(N_new)\n",
        "\n",
        "# number of landing old page and converted  / number of landing old page\n",
        "converted_old = df2.query('converted == 1 and landing_page== \"old_page\"')['user_id'].nunique()\n",
        "actual_old = float(converted_old) / float(N_old)\n",
        "\n",
        "#observed difference in converted rate\n",
        "obs_diff = actual_diff = actual_new - actual_old\n",
        "obs_diff"
      ]
    },
    {
      "cell_type": "code",
      "execution_count": null,
      "metadata": {
        "id": "jsYoBuWHATbo",
        "outputId": "1eb3b568-6892-413c-a33f-a2438e91ee9f"
      },
      "outputs": [
        {
          "data": {
            "text/plain": [
              "1.959963984540054"
            ]
          },
          "execution_count": 88,
          "metadata": {},
          "output_type": "execute_result"
        }
      ],
      "source": [
        "# to determine the significance of a z-score and the\n",
        "# critical value at 95% confidence for a normal distribution.\n",
        "from scipy.stats import norm\n",
        "\n",
        "norm.cdf(z_score) , norm.ppf(1-(0.05/2))\n",
        "norm.cdf(z_score)   # how significant our z-score is\n",
        "norm.ppf(1-(0.05/2)) # what our critical value at 95% confidence is"
      ]
    },
    {
      "cell_type": "markdown",
      "metadata": {
        "id": "KfAQtXvrATbp"
      },
      "source": [
        "* Since the z-score of 1.3109241984234394 does not exceed the critical value of 1.959963984540054, we fail to reject the null hypothesis. Therefore, the converted rate for new page and old page have no difference.\n",
        "* The z-score is greater than the value of -0.1645 (one-tail test) and hence it suggests that we can't reject the null.\n",
        "* And the p-value suggests that there is no statistically significant difference betweem the new and the old page."
      ]
    },
    {
      "cell_type": "markdown",
      "metadata": {
        "id": "CMpo2I3vATbp"
      },
      "source": [
        "<a id='regression'></a>\n",
        "###  A regression approach\n"
      ]
    },
    {
      "cell_type": "markdown",
      "metadata": {
        "id": "cS_3lWbSATbq"
      },
      "source": [
        "The goal is to use **statsmodels** to fit the regression model you specified in part to see if there is a significant difference in conversion based on which page a customer receives.\n",
        "1. reate a colun for the intercept, and create a dummy variable column for which page each user received.\n",
        "2. Add an **intercept** column,\n",
        "3. Add **ab_page** column, which is 1 when an individual receives the **treatment** and 0 if **control**."
      ]
    },
    {
      "cell_type": "code",
      "execution_count": null,
      "metadata": {
        "id": "VoZ-D6iwATbq",
        "outputId": "7ae5ca5f-c87b-427e-88f8-fd02c9eea5d1"
      },
      "outputs": [
        {
          "name": "stderr",
          "output_type": "stream",
          "text": [
            "C:\\Users\\Rayan\\AppData\\Local\\Temp\\ipykernel_8332\\2680496232.py:2: SettingWithCopyWarning: \n",
            "A value is trying to be set on a copy of a slice from a DataFrame.\n",
            "Try using .loc[row_indexer,col_indexer] = value instead\n",
            "\n",
            "See the caveats in the documentation: https://pandas.pydata.org/pandas-docs/stable/user_guide/indexing.html#returning-a-view-versus-a-copy\n",
            "  df2['intercept'] = 1\n"
          ]
        },
        {
          "data": {
            "text/html": [
              "<div>\n",
              "<style scoped>\n",
              "    .dataframe tbody tr th:only-of-type {\n",
              "        vertical-align: middle;\n",
              "    }\n",
              "\n",
              "    .dataframe tbody tr th {\n",
              "        vertical-align: top;\n",
              "    }\n",
              "\n",
              "    .dataframe thead th {\n",
              "        text-align: right;\n",
              "    }\n",
              "</style>\n",
              "<table border=\"1\" class=\"dataframe\">\n",
              "  <thead>\n",
              "    <tr style=\"text-align: right;\">\n",
              "      <th></th>\n",
              "      <th>user_id</th>\n",
              "      <th>timestamp</th>\n",
              "      <th>group</th>\n",
              "      <th>landing_page</th>\n",
              "      <th>converted</th>\n",
              "      <th>intercept</th>\n",
              "      <th>ab_page</th>\n",
              "    </tr>\n",
              "  </thead>\n",
              "  <tbody>\n",
              "    <tr>\n",
              "      <th>0</th>\n",
              "      <td>851104</td>\n",
              "      <td>2017-01-21 22:11:48.556739</td>\n",
              "      <td>control</td>\n",
              "      <td>old_page</td>\n",
              "      <td>0</td>\n",
              "      <td>1</td>\n",
              "      <td>0</td>\n",
              "    </tr>\n",
              "    <tr>\n",
              "      <th>1</th>\n",
              "      <td>804228</td>\n",
              "      <td>2017-01-12 08:01:45.159739</td>\n",
              "      <td>control</td>\n",
              "      <td>old_page</td>\n",
              "      <td>0</td>\n",
              "      <td>1</td>\n",
              "      <td>0</td>\n",
              "    </tr>\n",
              "    <tr>\n",
              "      <th>2</th>\n",
              "      <td>661590</td>\n",
              "      <td>2017-01-11 16:55:06.154213</td>\n",
              "      <td>treatment</td>\n",
              "      <td>new_page</td>\n",
              "      <td>0</td>\n",
              "      <td>1</td>\n",
              "      <td>1</td>\n",
              "    </tr>\n",
              "    <tr>\n",
              "      <th>3</th>\n",
              "      <td>853541</td>\n",
              "      <td>2017-01-08 18:28:03.143765</td>\n",
              "      <td>treatment</td>\n",
              "      <td>new_page</td>\n",
              "      <td>0</td>\n",
              "      <td>1</td>\n",
              "      <td>1</td>\n",
              "    </tr>\n",
              "    <tr>\n",
              "      <th>4</th>\n",
              "      <td>864975</td>\n",
              "      <td>2017-01-21 01:52:26.210827</td>\n",
              "      <td>control</td>\n",
              "      <td>old_page</td>\n",
              "      <td>1</td>\n",
              "      <td>1</td>\n",
              "      <td>0</td>\n",
              "    </tr>\n",
              "  </tbody>\n",
              "</table>\n",
              "</div>"
            ],
            "text/plain": [
              "   user_id                   timestamp      group landing_page  converted  \\\n",
              "0   851104  2017-01-21 22:11:48.556739    control     old_page          0   \n",
              "1   804228  2017-01-12 08:01:45.159739    control     old_page          0   \n",
              "2   661590  2017-01-11 16:55:06.154213  treatment     new_page          0   \n",
              "3   853541  2017-01-08 18:28:03.143765  treatment     new_page          0   \n",
              "4   864975  2017-01-21 01:52:26.210827    control     old_page          1   \n",
              "\n",
              "   intercept  ab_page  \n",
              "0          1        0  \n",
              "1          1        0  \n",
              "2          1        1  \n",
              "3          1        1  \n",
              "4          1        0  "
            ]
          },
          "execution_count": 91,
          "metadata": {},
          "output_type": "execute_result"
        }
      ],
      "source": [
        "# create a colun for the intercept\n",
        "df2['intercept'] = 1\n",
        "df2.head()"
      ]
    },
    {
      "cell_type": "code",
      "execution_count": null,
      "metadata": {
        "id": "fPKOjnv5ATbr",
        "outputId": "5837c54a-0008-475a-814e-9a2195d267ff"
      },
      "outputs": [
        {
          "name": "stderr",
          "output_type": "stream",
          "text": [
            "C:\\Users\\Rayan\\AppData\\Local\\Temp\\ipykernel_8332\\3444522949.py:2: SettingWithCopyWarning: \n",
            "A value is trying to be set on a copy of a slice from a DataFrame.\n",
            "Try using .loc[row_indexer,col_indexer] = value instead\n",
            "\n",
            "See the caveats in the documentation: https://pandas.pydata.org/pandas-docs/stable/user_guide/indexing.html#returning-a-view-versus-a-copy\n",
            "  df2['ab_page'] = pd.get_dummies(df['group'])['treatment']\n"
          ]
        },
        {
          "data": {
            "text/html": [
              "<div>\n",
              "<style scoped>\n",
              "    .dataframe tbody tr th:only-of-type {\n",
              "        vertical-align: middle;\n",
              "    }\n",
              "\n",
              "    .dataframe tbody tr th {\n",
              "        vertical-align: top;\n",
              "    }\n",
              "\n",
              "    .dataframe thead th {\n",
              "        text-align: right;\n",
              "    }\n",
              "</style>\n",
              "<table border=\"1\" class=\"dataframe\">\n",
              "  <thead>\n",
              "    <tr style=\"text-align: right;\">\n",
              "      <th></th>\n",
              "      <th>user_id</th>\n",
              "      <th>timestamp</th>\n",
              "      <th>group</th>\n",
              "      <th>landing_page</th>\n",
              "      <th>converted</th>\n",
              "      <th>intercept</th>\n",
              "      <th>ab_page</th>\n",
              "    </tr>\n",
              "  </thead>\n",
              "  <tbody>\n",
              "    <tr>\n",
              "      <th>0</th>\n",
              "      <td>851104</td>\n",
              "      <td>2017-01-21 22:11:48.556739</td>\n",
              "      <td>control</td>\n",
              "      <td>old_page</td>\n",
              "      <td>0</td>\n",
              "      <td>1</td>\n",
              "      <td>0</td>\n",
              "    </tr>\n",
              "    <tr>\n",
              "      <th>1</th>\n",
              "      <td>804228</td>\n",
              "      <td>2017-01-12 08:01:45.159739</td>\n",
              "      <td>control</td>\n",
              "      <td>old_page</td>\n",
              "      <td>0</td>\n",
              "      <td>1</td>\n",
              "      <td>0</td>\n",
              "    </tr>\n",
              "    <tr>\n",
              "      <th>2</th>\n",
              "      <td>661590</td>\n",
              "      <td>2017-01-11 16:55:06.154213</td>\n",
              "      <td>treatment</td>\n",
              "      <td>new_page</td>\n",
              "      <td>0</td>\n",
              "      <td>1</td>\n",
              "      <td>1</td>\n",
              "    </tr>\n",
              "    <tr>\n",
              "      <th>3</th>\n",
              "      <td>853541</td>\n",
              "      <td>2017-01-08 18:28:03.143765</td>\n",
              "      <td>treatment</td>\n",
              "      <td>new_page</td>\n",
              "      <td>0</td>\n",
              "      <td>1</td>\n",
              "      <td>1</td>\n",
              "    </tr>\n",
              "    <tr>\n",
              "      <th>4</th>\n",
              "      <td>864975</td>\n",
              "      <td>2017-01-21 01:52:26.210827</td>\n",
              "      <td>control</td>\n",
              "      <td>old_page</td>\n",
              "      <td>1</td>\n",
              "      <td>1</td>\n",
              "      <td>0</td>\n",
              "    </tr>\n",
              "  </tbody>\n",
              "</table>\n",
              "</div>"
            ],
            "text/plain": [
              "   user_id                   timestamp      group landing_page  converted  \\\n",
              "0   851104  2017-01-21 22:11:48.556739    control     old_page          0   \n",
              "1   804228  2017-01-12 08:01:45.159739    control     old_page          0   \n",
              "2   661590  2017-01-11 16:55:06.154213  treatment     new_page          0   \n",
              "3   853541  2017-01-08 18:28:03.143765  treatment     new_page          0   \n",
              "4   864975  2017-01-21 01:52:26.210827    control     old_page          1   \n",
              "\n",
              "   intercept  ab_page  \n",
              "0          1        0  \n",
              "1          1        0  \n",
              "2          1        1  \n",
              "3          1        1  \n",
              "4          1        0  "
            ]
          },
          "execution_count": 92,
          "metadata": {},
          "output_type": "execute_result"
        }
      ],
      "source": [
        "# create a dummy variable column for which page each user received\n",
        "df2['ab_page'] = pd.get_dummies(df['group'])['treatment']\n",
        "df2.head()"
      ]
    },
    {
      "cell_type": "markdown",
      "metadata": {
        "id": "H7gHYmMwATbs"
      },
      "source": [
        "using the two columns you created to predict whether or not an individual converts.\n",
        "This code performs logistic regression analysis on a dataset called df2. The dependent variable is converted, which is a binary variable indicating whether a user converted or not. The independent variables are intercept and ab_page, which are the intercept and the effect of the ab_page variable on the conversion rate.\n",
        "\n",
        "The sm.Logit() function is used to create a logistic regression model using the statsmodels library. The df2['converted'] column is the dependent variable, and the df2[['intercept','ab_page']] expression specifies the independent variables.\n",
        "\n",
        "The fit() method is then called on the logistic regression model to estimate the parameters of the model. The results are stored in a variable called results."
      ]
    },
    {
      "cell_type": "code",
      "execution_count": null,
      "metadata": {
        "id": "Vhh70BskATbt",
        "outputId": "700aa22e-9f04-4730-9975-5c3b68a7ec89"
      },
      "outputs": [
        {
          "name": "stdout",
          "output_type": "stream",
          "text": [
            "Optimization terminated successfully.\n",
            "         Current function value: 0.366118\n",
            "         Iterations 6\n"
          ]
        }
      ],
      "source": [
        "log_mod = sm.Logit(df2['converted'], df2[['intercept','ab_page']])\n",
        "results = log_mod.fit()\n"
      ]
    },
    {
      "cell_type": "code",
      "execution_count": null,
      "metadata": {
        "id": "Li8YM4xEATbt",
        "outputId": "241fd5d0-35bf-445f-fc1c-7e15bb67c0c5"
      },
      "outputs": [
        {
          "data": {
            "text/html": [
              "<table class=\"simpletable\">\n",
              "<caption>Logit Regression Results</caption>\n",
              "<tr>\n",
              "  <th>Dep. Variable:</th>       <td>converted</td>    <th>  No. Observations:  </th>   <td>290585</td>   \n",
              "</tr>\n",
              "<tr>\n",
              "  <th>Model:</th>                 <td>Logit</td>      <th>  Df Residuals:      </th>   <td>290583</td>   \n",
              "</tr>\n",
              "<tr>\n",
              "  <th>Method:</th>                 <td>MLE</td>       <th>  Df Model:          </th>   <td>     1</td>   \n",
              "</tr>\n",
              "<tr>\n",
              "  <th>Date:</th>            <td>Tue, 19 Dec 2023</td> <th>  Pseudo R-squ.:     </th>  <td>8.085e-06</td> \n",
              "</tr>\n",
              "<tr>\n",
              "  <th>Time:</th>                <td>12:55:44</td>     <th>  Log-Likelihood:    </th> <td>-1.0639e+05</td>\n",
              "</tr>\n",
              "<tr>\n",
              "  <th>converged:</th>             <td>True</td>       <th>  LL-Null:           </th> <td>-1.0639e+05</td>\n",
              "</tr>\n",
              "<tr>\n",
              "  <th>Covariance Type:</th>     <td>nonrobust</td>    <th>  LLR p-value:       </th>   <td>0.1897</td>   \n",
              "</tr>\n",
              "</table>\n",
              "<table class=\"simpletable\">\n",
              "<tr>\n",
              "      <td></td>         <th>coef</th>     <th>std err</th>      <th>z</th>      <th>P>|z|</th>  <th>[0.025</th>    <th>0.975]</th>  \n",
              "</tr>\n",
              "<tr>\n",
              "  <th>intercept</th> <td>   -1.9888</td> <td>    0.008</td> <td> -246.669</td> <td> 0.000</td> <td>   -2.005</td> <td>   -1.973</td>\n",
              "</tr>\n",
              "<tr>\n",
              "  <th>ab_page</th>   <td>   -0.0150</td> <td>    0.011</td> <td>   -1.312</td> <td> 0.190</td> <td>   -0.037</td> <td>    0.007</td>\n",
              "</tr>\n",
              "</table>"
            ],
            "text/plain": [
              "<class 'statsmodels.iolib.summary.Summary'>\n",
              "\"\"\"\n",
              "                           Logit Regression Results                           \n",
              "==============================================================================\n",
              "Dep. Variable:              converted   No. Observations:               290585\n",
              "Model:                          Logit   Df Residuals:                   290583\n",
              "Method:                           MLE   Df Model:                            1\n",
              "Date:                Tue, 19 Dec 2023   Pseudo R-squ.:               8.085e-06\n",
              "Time:                        12:55:44   Log-Likelihood:            -1.0639e+05\n",
              "converged:                       True   LL-Null:                   -1.0639e+05\n",
              "Covariance Type:            nonrobust   LLR p-value:                    0.1897\n",
              "==============================================================================\n",
              "                 coef    std err          z      P>|z|      [0.025      0.975]\n",
              "------------------------------------------------------------------------------\n",
              "intercept     -1.9888      0.008   -246.669      0.000      -2.005      -1.973\n",
              "ab_page       -0.0150      0.011     -1.312      0.190      -0.037       0.007\n",
              "==============================================================================\n",
              "\"\"\""
            ]
          },
          "execution_count": 94,
          "metadata": {},
          "output_type": "execute_result"
        }
      ],
      "source": [
        "results.summary()"
      ]
    },
    {
      "cell_type": "markdown",
      "metadata": {
        "id": "XVPYZfC9ATbu"
      },
      "source": [
        "The p values differe based on the method. Why does it differ from the value you found in the **Part II**?"
      ]
    },
    {
      "cell_type": "markdown",
      "metadata": {
        "id": "m1ENOjKoATbu"
      },
      "source": [
        "* p-value associated with ab_page is 0.19, which is different from the value found in PartII (0.9).\n",
        "\n",
        "* Reason :\n",
        "* In Part II, A/B Test method , the hypothesis test is under :  \n",
        "* null hypothesis: 𝑝_𝑛𝑒𝑤 <=  𝑝_𝑜𝑙𝑑 , Alternative hypothesis p_new > p_old\n",
        "* In Part III under logistic model, the hypothesis test is under :\n",
        "* null hypothesis: 𝑝_𝑛𝑒𝑤 =  𝑝_𝑜𝑙𝑑 , Alternative hypothesis p_new ≠ p_old\n",
        "* Part III under regression method 'not equal' which is a two sided test, while Part II under A/B test method is a one tailed test\n",
        "\n",
        "* it has something to do with the bimodal distribution. We actually have an effect that the old page has slightly better\n",
        "conversion, the p-value is essentially 2(1 - (value)), to shade the tails. It essentially suggests there is not statistical\n",
        "evidence of a difference in the two conversion rates, but the connection between the p-value here and the p-value above is a  bit disconnected because of the directional component of the previous alternative hypothesis.\n",
        "\n",
        "\n"
      ]
    },
    {
      "cell_type": "markdown",
      "metadata": {
        "id": "MNYjtd39ATbv"
      },
      "source": [
        "Now along with testing if the conversion rate changes for different pages, also add an effect based on which country a user lives.\n",
        "Does it appear that country had an impact on conversion?  Don't forget to create dummy variables for these country columns - **Hint: You will need two columns for the three dummy varaibles.** Provide the statistical output as well as a written response to answer this question."
      ]
    },
    {
      "cell_type": "code",
      "execution_count": null,
      "metadata": {
        "id": "BkwdnED6ATbw",
        "outputId": "089f3ce9-ab52-4935-ba81-2bb9d3a9ac2b"
      },
      "outputs": [
        {
          "data": {
            "text/html": [
              "<div>\n",
              "<style scoped>\n",
              "    .dataframe tbody tr th:only-of-type {\n",
              "        vertical-align: middle;\n",
              "    }\n",
              "\n",
              "    .dataframe tbody tr th {\n",
              "        vertical-align: top;\n",
              "    }\n",
              "\n",
              "    .dataframe thead th {\n",
              "        text-align: right;\n",
              "    }\n",
              "</style>\n",
              "<table border=\"1\" class=\"dataframe\">\n",
              "  <thead>\n",
              "    <tr style=\"text-align: right;\">\n",
              "      <th></th>\n",
              "      <th>user_id</th>\n",
              "      <th>country</th>\n",
              "    </tr>\n",
              "  </thead>\n",
              "  <tbody>\n",
              "    <tr>\n",
              "      <th>0</th>\n",
              "      <td>834778</td>\n",
              "      <td>UK</td>\n",
              "    </tr>\n",
              "    <tr>\n",
              "      <th>1</th>\n",
              "      <td>928468</td>\n",
              "      <td>US</td>\n",
              "    </tr>\n",
              "    <tr>\n",
              "      <th>2</th>\n",
              "      <td>822059</td>\n",
              "      <td>UK</td>\n",
              "    </tr>\n",
              "    <tr>\n",
              "      <th>3</th>\n",
              "      <td>711597</td>\n",
              "      <td>UK</td>\n",
              "    </tr>\n",
              "    <tr>\n",
              "      <th>4</th>\n",
              "      <td>710616</td>\n",
              "      <td>UK</td>\n",
              "    </tr>\n",
              "  </tbody>\n",
              "</table>\n",
              "</div>"
            ],
            "text/plain": [
              "   user_id country\n",
              "0   834778      UK\n",
              "1   928468      US\n",
              "2   822059      UK\n",
              "3   711597      UK\n",
              "4   710616      UK"
            ]
          },
          "execution_count": 97,
          "metadata": {},
          "output_type": "execute_result"
        }
      ],
      "source": [
        "df_country = pd.read_csv(r'C:\\Users\\Rayan\\OneDrive\\GreatLearning_DSBA\\business_analytics\\data_analysis_projects\\AB_test\\countries.csv')\n",
        "df_country.head()"
      ]
    },
    {
      "cell_type": "code",
      "execution_count": null,
      "metadata": {
        "id": "GNzEfW_vATbw",
        "outputId": "ccd8a87e-6474-4430-d514-32f325e67743"
      },
      "outputs": [
        {
          "data": {
            "text/html": [
              "<div>\n",
              "<style scoped>\n",
              "    .dataframe tbody tr th:only-of-type {\n",
              "        vertical-align: middle;\n",
              "    }\n",
              "\n",
              "    .dataframe tbody tr th {\n",
              "        vertical-align: top;\n",
              "    }\n",
              "\n",
              "    .dataframe thead th {\n",
              "        text-align: right;\n",
              "    }\n",
              "</style>\n",
              "<table border=\"1\" class=\"dataframe\">\n",
              "  <thead>\n",
              "    <tr style=\"text-align: right;\">\n",
              "      <th></th>\n",
              "      <th>user_id</th>\n",
              "      <th>timestamp</th>\n",
              "      <th>group</th>\n",
              "      <th>landing_page</th>\n",
              "      <th>converted</th>\n",
              "      <th>intercept</th>\n",
              "      <th>ab_page</th>\n",
              "      <th>country</th>\n",
              "    </tr>\n",
              "  </thead>\n",
              "  <tbody>\n",
              "    <tr>\n",
              "      <th>0</th>\n",
              "      <td>851104</td>\n",
              "      <td>2017-01-21 22:11:48.556739</td>\n",
              "      <td>control</td>\n",
              "      <td>old_page</td>\n",
              "      <td>0</td>\n",
              "      <td>1</td>\n",
              "      <td>0</td>\n",
              "      <td>US</td>\n",
              "    </tr>\n",
              "    <tr>\n",
              "      <th>1</th>\n",
              "      <td>804228</td>\n",
              "      <td>2017-01-12 08:01:45.159739</td>\n",
              "      <td>control</td>\n",
              "      <td>old_page</td>\n",
              "      <td>0</td>\n",
              "      <td>1</td>\n",
              "      <td>0</td>\n",
              "      <td>US</td>\n",
              "    </tr>\n",
              "    <tr>\n",
              "      <th>2</th>\n",
              "      <td>661590</td>\n",
              "      <td>2017-01-11 16:55:06.154213</td>\n",
              "      <td>treatment</td>\n",
              "      <td>new_page</td>\n",
              "      <td>0</td>\n",
              "      <td>1</td>\n",
              "      <td>1</td>\n",
              "      <td>US</td>\n",
              "    </tr>\n",
              "    <tr>\n",
              "      <th>3</th>\n",
              "      <td>853541</td>\n",
              "      <td>2017-01-08 18:28:03.143765</td>\n",
              "      <td>treatment</td>\n",
              "      <td>new_page</td>\n",
              "      <td>0</td>\n",
              "      <td>1</td>\n",
              "      <td>1</td>\n",
              "      <td>US</td>\n",
              "    </tr>\n",
              "    <tr>\n",
              "      <th>4</th>\n",
              "      <td>864975</td>\n",
              "      <td>2017-01-21 01:52:26.210827</td>\n",
              "      <td>control</td>\n",
              "      <td>old_page</td>\n",
              "      <td>1</td>\n",
              "      <td>1</td>\n",
              "      <td>0</td>\n",
              "      <td>US</td>\n",
              "    </tr>\n",
              "  </tbody>\n",
              "</table>\n",
              "</div>"
            ],
            "text/plain": [
              "   user_id                   timestamp      group landing_page  converted  \\\n",
              "0   851104  2017-01-21 22:11:48.556739    control     old_page          0   \n",
              "1   804228  2017-01-12 08:01:45.159739    control     old_page          0   \n",
              "2   661590  2017-01-11 16:55:06.154213  treatment     new_page          0   \n",
              "3   853541  2017-01-08 18:28:03.143765  treatment     new_page          0   \n",
              "4   864975  2017-01-21 01:52:26.210827    control     old_page          1   \n",
              "\n",
              "   intercept  ab_page country  \n",
              "0          1        0      US  \n",
              "1          1        0      US  \n",
              "2          1        1      US  \n",
              "3          1        1      US  \n",
              "4          1        0      US  "
            ]
          },
          "execution_count": 98,
          "metadata": {},
          "output_type": "execute_result"
        }
      ],
      "source": [
        "# join two dataframes on common column 'user_id'\n",
        "df3 = df2.join(df_country.set_index('user_id'),on='user_id')\n",
        "df3.head()"
      ]
    },
    {
      "cell_type": "code",
      "execution_count": null,
      "metadata": {
        "id": "vf71oDObATbx",
        "outputId": "1cf5e312-59cc-4e0f-dc95-2b70bed55937"
      },
      "outputs": [
        {
          "data": {
            "text/plain": [
              "US    203620\n",
              "UK     72466\n",
              "CA     14499\n",
              "Name: country, dtype: int64"
            ]
          },
          "execution_count": 99,
          "metadata": {},
          "output_type": "execute_result"
        }
      ],
      "source": [
        "df3['country'].value_counts()"
      ]
    },
    {
      "cell_type": "code",
      "execution_count": null,
      "metadata": {
        "id": "SBWsxA1DATbx",
        "outputId": "f8aa2fa9-46ee-4fd0-b826-b0490e36e028"
      },
      "outputs": [
        {
          "name": "stdout",
          "output_type": "stream",
          "text": [
            "Optimization terminated successfully.\n",
            "         Current function value: 0.366114\n",
            "         Iterations 6\n"
          ]
        },
        {
          "data": {
            "text/html": [
              "<table class=\"simpletable\">\n",
              "<caption>Logit Regression Results</caption>\n",
              "<tr>\n",
              "  <th>Dep. Variable:</th>       <td>converted</td>    <th>  No. Observations:  </th>   <td>290583</td>   \n",
              "</tr>\n",
              "<tr>\n",
              "  <th>Model:</th>                 <td>Logit</td>      <th>  Df Residuals:      </th>   <td>290579</td>   \n",
              "</tr>\n",
              "<tr>\n",
              "  <th>Method:</th>                 <td>MLE</td>       <th>  Df Model:          </th>   <td>     3</td>   \n",
              "</tr>\n",
              "<tr>\n",
              "  <th>Date:</th>            <td>Tue, 19 Dec 2023</td> <th>  Pseudo R-squ.:     </th>  <td>2.326e-05</td> \n",
              "</tr>\n",
              "<tr>\n",
              "  <th>Time:</th>                <td>13:06:08</td>     <th>  Log-Likelihood:    </th> <td>-1.0639e+05</td>\n",
              "</tr>\n",
              "<tr>\n",
              "  <th>converged:</th>             <td>True</td>       <th>  LL-Null:           </th> <td>-1.0639e+05</td>\n",
              "</tr>\n",
              "<tr>\n",
              "  <th>Covariance Type:</th>     <td>nonrobust</td>    <th>  LLR p-value:       </th>   <td>0.1756</td>   \n",
              "</tr>\n",
              "</table>\n",
              "<table class=\"simpletable\">\n",
              "<tr>\n",
              "      <td></td>         <th>coef</th>     <th>std err</th>      <th>z</th>      <th>P>|z|</th>  <th>[0.025</th>    <th>0.975]</th>  \n",
              "</tr>\n",
              "<tr>\n",
              "  <th>intercept</th> <td>   -1.9893</td> <td>    0.009</td> <td> -223.760</td> <td> 0.000</td> <td>   -2.007</td> <td>   -1.972</td>\n",
              "</tr>\n",
              "<tr>\n",
              "  <th>US</th>        <td>   -0.0408</td> <td>    0.027</td> <td>   -1.516</td> <td> 0.129</td> <td>   -0.093</td> <td>    0.012</td>\n",
              "</tr>\n",
              "<tr>\n",
              "  <th>UK</th>        <td>    0.0099</td> <td>    0.013</td> <td>    0.743</td> <td> 0.458</td> <td>   -0.016</td> <td>    0.036</td>\n",
              "</tr>\n",
              "<tr>\n",
              "  <th>ab_page</th>   <td>   -0.0150</td> <td>    0.011</td> <td>   -1.309</td> <td> 0.191</td> <td>   -0.037</td> <td>    0.007</td>\n",
              "</tr>\n",
              "</table>"
            ],
            "text/plain": [
              "<class 'statsmodels.iolib.summary.Summary'>\n",
              "\"\"\"\n",
              "                           Logit Regression Results                           \n",
              "==============================================================================\n",
              "Dep. Variable:              converted   No. Observations:               290583\n",
              "Model:                          Logit   Df Residuals:                   290579\n",
              "Method:                           MLE   Df Model:                            3\n",
              "Date:                Tue, 19 Dec 2023   Pseudo R-squ.:               2.326e-05\n",
              "Time:                        13:06:08   Log-Likelihood:            -1.0639e+05\n",
              "converged:                       True   LL-Null:                   -1.0639e+05\n",
              "Covariance Type:            nonrobust   LLR p-value:                    0.1756\n",
              "==============================================================================\n",
              "                 coef    std err          z      P>|z|      [0.025      0.975]\n",
              "------------------------------------------------------------------------------\n",
              "intercept     -1.9893      0.009   -223.760      0.000      -2.007      -1.972\n",
              "US            -0.0408      0.027     -1.516      0.129      -0.093       0.012\n",
              "UK             0.0099      0.013      0.743      0.458      -0.016       0.036\n",
              "ab_page       -0.0150      0.011     -1.309      0.191      -0.037       0.007\n",
              "==============================================================================\n",
              "\"\"\""
            ]
          },
          "execution_count": 100,
          "metadata": {},
          "output_type": "execute_result"
        }
      ],
      "source": [
        "# create dummy variables for country\n",
        "df3[['US','UK','CA']] = pd.get_dummies(df3['country'])\n",
        "df3 = df3.drop(df3['CA'])\n",
        "df3['intercept'] = 1\n",
        "log_mod = sm.Logit(df3['converted'], df3[['intercept','US','UK','ab_page']])\n",
        "results = log_mod.fit()\n",
        "results.summary()"
      ]
    },
    {
      "cell_type": "code",
      "execution_count": null,
      "metadata": {
        "id": "TU0-JXD2ATby",
        "outputId": "173f4d67-a3e3-4cf3-99cb-2a3ca35886d5"
      },
      "outputs": [
        {
          "data": {
            "text/plain": [
              "intercept    0.136797\n",
              "US           0.960057\n",
              "UK           1.009926\n",
              "ab_page      0.985145\n",
              "dtype: float64"
            ]
          },
          "execution_count": 189,
          "metadata": {},
          "output_type": "execute_result"
        }
      ],
      "source": [
        "np.exp(results.params)"
      ]
    },
    {
      "cell_type": "markdown",
      "metadata": {
        "id": "5kkv2Ne0ATby"
      },
      "source": [
        "A one-unit increase in converted is associated with a 0.9 times increase in the odds of being US. and 0,9 times increase in ab_pages"
      ]
    },
    {
      "cell_type": "code",
      "execution_count": null,
      "metadata": {
        "id": "-9Yf62ZSATbz",
        "outputId": "74bb48b3-4d9c-4285-ed76-87de3dd8b9f8"
      },
      "outputs": [
        {
          "data": {
            "text/plain": [
              "(1.015113064615719, 1.0519020483004984, 1.0416437559600236)"
            ]
          },
          "execution_count": 101,
          "metadata": {},
          "output_type": "execute_result"
        }
      ],
      "source": [
        "1/np.exp(-0.0150),np.exp(0.0506),np.exp(0.0408)"
      ]
    },
    {
      "cell_type": "markdown",
      "metadata": {
        "id": "p-9zm0vOATbz"
      },
      "source": [
        "Now like to look at an interaction between page and country to see if there significant effects on conversion.  Create the necessary additional columns, and fit the new model.  "
      ]
    },
    {
      "cell_type": "code",
      "execution_count": null,
      "metadata": {
        "id": "WOclMJdcATbz",
        "outputId": "3f77b350-ae5f-4ed3-fe67-b1cf60d877e6"
      },
      "outputs": [
        {
          "name": "stdout",
          "output_type": "stream",
          "text": [
            "Optimization terminated successfully.\n",
            "         Current function value: 0.366110\n",
            "         Iterations 6\n"
          ]
        },
        {
          "data": {
            "text/html": [
              "<table class=\"simpletable\">\n",
              "<caption>Logit Regression Results</caption>\n",
              "<tr>\n",
              "  <th>Dep. Variable:</th>       <td>converted</td>    <th>  No. Observations:  </th>   <td>290583</td>   \n",
              "</tr>\n",
              "<tr>\n",
              "  <th>Model:</th>                 <td>Logit</td>      <th>  Df Residuals:      </th>   <td>290577</td>   \n",
              "</tr>\n",
              "<tr>\n",
              "  <th>Method:</th>                 <td>MLE</td>       <th>  Df Model:          </th>   <td>     5</td>   \n",
              "</tr>\n",
              "<tr>\n",
              "  <th>Date:</th>            <td>Tue, 19 Dec 2023</td> <th>  Pseudo R-squ.:     </th>  <td>3.485e-05</td> \n",
              "</tr>\n",
              "<tr>\n",
              "  <th>Time:</th>                <td>11:45:31</td>     <th>  Log-Likelihood:    </th> <td>-1.0639e+05</td>\n",
              "</tr>\n",
              "<tr>\n",
              "  <th>converged:</th>             <td>True</td>       <th>  LL-Null:           </th> <td>-1.0639e+05</td>\n",
              "</tr>\n",
              "<tr>\n",
              "  <th>Covariance Type:</th>     <td>nonrobust</td>    <th>  LLR p-value:       </th>   <td>0.1915</td>   \n",
              "</tr>\n",
              "</table>\n",
              "<table class=\"simpletable\">\n",
              "<tr>\n",
              "      <td></td>         <th>coef</th>     <th>std err</th>      <th>z</th>      <th>P>|z|</th>  <th>[0.025</th>    <th>0.975]</th>  \n",
              "</tr>\n",
              "<tr>\n",
              "  <th>intercept</th> <td>   -1.9865</td> <td>    0.010</td> <td> -206.341</td> <td> 0.000</td> <td>   -2.005</td> <td>   -1.968</td>\n",
              "</tr>\n",
              "<tr>\n",
              "  <th>ab_page</th>   <td>   -0.0206</td> <td>    0.014</td> <td>   -1.508</td> <td> 0.132</td> <td>   -0.047</td> <td>    0.006</td>\n",
              "</tr>\n",
              "<tr>\n",
              "  <th>US</th>        <td>   -0.0176</td> <td>    0.038</td> <td>   -0.466</td> <td> 0.641</td> <td>   -0.091</td> <td>    0.056</td>\n",
              "</tr>\n",
              "<tr>\n",
              "  <th>UK</th>        <td>   -0.0058</td> <td>    0.019</td> <td>   -0.307</td> <td> 0.759</td> <td>   -0.043</td> <td>    0.031</td>\n",
              "</tr>\n",
              "<tr>\n",
              "  <th>US_new</th>    <td>   -0.0469</td> <td>    0.054</td> <td>   -0.871</td> <td> 0.384</td> <td>   -0.152</td> <td>    0.059</td>\n",
              "</tr>\n",
              "<tr>\n",
              "  <th>UK_new</th>    <td>    0.0314</td> <td>    0.027</td> <td>    1.182</td> <td> 0.237</td> <td>   -0.021</td> <td>    0.084</td>\n",
              "</tr>\n",
              "</table>"
            ],
            "text/plain": [
              "<class 'statsmodels.iolib.summary.Summary'>\n",
              "\"\"\"\n",
              "                           Logit Regression Results                           \n",
              "==============================================================================\n",
              "Dep. Variable:              converted   No. Observations:               290583\n",
              "Model:                          Logit   Df Residuals:                   290577\n",
              "Method:                           MLE   Df Model:                            5\n",
              "Date:                Tue, 19 Dec 2023   Pseudo R-squ.:               3.485e-05\n",
              "Time:                        11:45:31   Log-Likelihood:            -1.0639e+05\n",
              "converged:                       True   LL-Null:                   -1.0639e+05\n",
              "Covariance Type:            nonrobust   LLR p-value:                    0.1915\n",
              "==============================================================================\n",
              "                 coef    std err          z      P>|z|      [0.025      0.975]\n",
              "------------------------------------------------------------------------------\n",
              "intercept     -1.9865      0.010   -206.341      0.000      -2.005      -1.968\n",
              "ab_page       -0.0206      0.014     -1.508      0.132      -0.047       0.006\n",
              "US            -0.0176      0.038     -0.466      0.641      -0.091       0.056\n",
              "UK            -0.0058      0.019     -0.307      0.759      -0.043       0.031\n",
              "US_new        -0.0469      0.054     -0.871      0.384      -0.152       0.059\n",
              "UK_new         0.0314      0.027      1.182      0.237      -0.021       0.084\n",
              "==============================================================================\n",
              "\"\"\""
            ]
          },
          "execution_count": 48,
          "metadata": {},
          "output_type": "execute_result"
        }
      ],
      "source": [
        "# create dummy variables for country\n",
        "df3['intercept'] = 1\n",
        "# interaction between page and country\n",
        "df3['US_new'] = df3['US'] * df3['ab_page']\n",
        "df3['UK_new'] = df3['UK'] * df3['ab_page']\n",
        "log_mod = sm.Logit(df3['converted'], df3[['intercept','ab_page','US','UK','US_new' ,'UK_new' ]])\n",
        "results = log_mod.fit()\n",
        "results.summary()"
      ]
    },
    {
      "cell_type": "markdown",
      "metadata": {
        "id": "oiYaevIcATb0"
      },
      "source": [
        "using baysian statistics"
      ]
    },
    {
      "cell_type": "code",
      "execution_count": null,
      "metadata": {
        "id": "UR_zu5GdATb0",
        "outputId": "075a07d9-e1a0-4b5a-b81c-9ea741d2be30"
      },
      "outputs": [
        {
          "data": {
            "text/plain": [
              "(17489, 17264, 145274, 145310)"
            ]
          },
          "execution_count": 197,
          "metadata": {},
          "output_type": "execute_result"
        }
      ],
      "source": [
        "convert_old = df2.query('converted == 1 and landing_page== \"old_page\"').user_id.nunique()\n",
        "convert_new = converted_old = df2.query('converted == 1 and landing_page== \"new_page\"').user_id.nunique()\n",
        "n_old = df2.query('landing_page == \"old_page\"')['user_id'].nunique()\n",
        "n_new = df2.query('landing_page == \"new_page\"')['user_id'].nunique()\n",
        "\n",
        "\n",
        "convert_old,convert_new , n_old , n_new"
      ]
    },
    {
      "cell_type": "code",
      "execution_count": null,
      "metadata": {
        "id": "e3YPZEMDATb1",
        "outputId": "bac54d91-b7e9-48ca-d56f-aef567df864f"
      },
      "outputs": [
        {
          "data": {
            "text/plain": [
              "(788164.0725938571, 91287.60040825981, 787845.7192897942, 91161.25074915121)"
            ]
          },
          "execution_count": 206,
          "metadata": {},
          "output_type": "execute_result"
        }
      ],
      "source": [
        "n_old_avg,n_old_std=df2.query('landing_page== \"old_page\"').user_id.unique().mean(),df2.query('landing_page== \"old_page\"').user_id.unique().std()\n",
        "n_new_avg,n_new_std=df2.query('landing_page== \"new_page\"').user_id.unique().mean(),df2.query('landing_page== \"new_page\"').user_id.unique().std()\n",
        "n_old_avg,n_old_std,n_new_avg,n_new_std"
      ]
    },
    {
      "cell_type": "markdown",
      "metadata": {
        "id": "JzIYzqFKATb1"
      },
      "source": [
        "## 1.method baysian inference"
      ]
    },
    {
      "cell_type": "code",
      "execution_count": null,
      "metadata": {
        "id": "eM9spRJyATb2",
        "outputId": "cfc699db-a1dd-4f37-98ed-a486c6f5eff7"
      },
      "outputs": [
        {
          "data": {
            "image/png": "[encoded data removed]",
            "text/plain": [
              "<Figure size 432x288 with 1 Axes>"
            ]
          },
          "metadata": {
            "needs_background": "light"
          },
          "output_type": "display_data"
        }
      ],
      "source": [
        "# Set prior parameters and calculate number of successes\n",
        "beta_prior_a = 1\n",
        "beta_prior_b = 1\n",
        "num_successes_old = convert_old\n",
        "num_successes_new = convert_new\n",
        "# Generate 10000 posterior draws\n",
        "def simulate_beta_dist(num_successes,beta_prior_a,beta_prior_b):\n",
        "  posterior_draws = np.random.beta(\n",
        "    num_successes + beta_prior_a,\n",
        "  n_old - num_successes + beta_prior_b,\n",
        "    10000)\n",
        "  return posterior_draws\n",
        "posterior_draws_old=simulate_beta_dist(num_successes_old,beta_prior_a,beta_prior_b)\n",
        "posterior_draws_new=simulate_beta_dist(num_successes_new,beta_prior_a,beta_prior_b)\n",
        "# Plot density of posterior_draws\n",
        "sns.kdeplot(posterior_draws_old, shade=True)\n",
        "sns.kdeplot(posterior_draws_new, shade=True)\n",
        "\n",
        "\n",
        "plt.show()"
      ]
    },
    {
      "cell_type": "markdown",
      "metadata": {
        "id": "OU-Skj0bATb2"
      },
      "source": [
        "You decide to run A/B testing, modeling the data using the binomial likelihood. You found out that a typical click-through rate for the previous ads has been around 15% recently,\n",
        "with results varying between 5% and 30%. Based on this, you conclude that"
      ]
    },
    {
      "cell_type": "code",
      "execution_count": null,
      "metadata": {
        "id": "nzZmSyx-ATb3",
        "outputId": "f7903a23-10c4-4ed5-875e-c8de175dd9e4"
      },
      "outputs": [
        {
          "data": {
            "image/png": "[encoded data removed]",
            "text/plain": [
              "<Figure size 432x288 with 1 Axes>"
            ]
          },
          "metadata": {
            "needs_background": "light"
          },
          "output_type": "display_data"
        }
      ],
      "source": [
        "# Calculate posterior difference and plot it\n",
        "diff = posterior_draws_old-posterior_draws_new\n",
        "sns.kdeplot(diff, shade=True, label=\"diff\")\n",
        "plt.show()"
      ]
    },
    {
      "cell_type": "code",
      "execution_count": null,
      "metadata": {
        "id": "skihe33ZATb3",
        "outputId": "95c1e146-7484-41df-e456-80643d9a343e"
      },
      "outputs": [
        {
          "name": "stdout",
          "output_type": "stream",
          "text": [
            "Probability of old being better is 0.9055\n"
          ]
        }
      ],
      "source": [
        "#Probability of old being better:\n",
        "print(f'Probability of old being better is {(diff > 0).mean()}')"
      ]
    },
    {
      "cell_type": "code",
      "execution_count": null,
      "metadata": {
        "id": "aApI9hB_ATb4",
        "outputId": "867d54f4-d615-4cac-b83d-cdf89167b06f"
      },
      "outputs": [
        {
          "name": "stdout",
          "output_type": "stream",
          "text": [
            "Probability of new being better is 0.0945\n"
          ]
        }
      ],
      "source": [
        "#Probability of new being better:\n",
        "print(f'Probability of new being better is {(diff < 0).mean()}')"
      ]
    },
    {
      "cell_type": "code",
      "execution_count": null,
      "metadata": {
        "id": "UgyaQjD8ATb4"
      },
      "outputs": [],
      "source": [
        "# Slice diff to take only cases where it is negative\n",
        "loss =diff[diff<0]\n",
        "\n",
        "# Compute and print expected loss\n",
        "expected_loss = loss.mean()\n",
        "print(f'the expected loss in case we choose the new is {expected_loss}')"
      ]
    }
  ],
  "metadata": {
    "kernelspec": {
      "display_name": "pgds_program",
      "language": "python",
      "name": "testenv"
    },
    "language_info": {
      "codemirror_mode": {
        "name": "ipython",
        "version": 3
      },
      "file_extension": ".py",
      "mimetype": "text/x-python",
      "name": "python",
      "nbconvert_exporter": "python",
      "pygments_lexer": "ipython3",
      "version": "3.9.12"
    },
    "colab": {
      "provenance": [],
      "include_colab_link": true
    }
  },
  "nbformat": 4,
  "nbformat_minor": 0
}